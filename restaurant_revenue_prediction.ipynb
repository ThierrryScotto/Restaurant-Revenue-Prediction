{
 "cells": [
  {
   "cell_type": "code",
   "execution_count": 1,
   "metadata": {
    "pycharm": {
     "name": "#%%\n"
    }
   },
   "outputs": [],
   "source": [
    "import numpy as np\n",
    "import pandas as pd\n",
    "import matplotlib.pyplot as plt\n",
    "import seaborn as sns\n",
    "from sklearn.ensemble import RandomForestRegressor\n",
    "from sklearn.model_selection import train_test_split\n",
    "from sklearn.feature_selection import SelectKBest   # o que essa lib faz?"
   ]
  },
  {
   "cell_type": "code",
   "execution_count": 2,
   "metadata": {
    "pycharm": {
     "name": "#%%\n"
    }
   },
   "outputs": [
    {
     "data": {
      "text/plain": "   Id   Open Date        City  City Group Type  P1   P2   P3   P4  P5  ...  \\\n0   0  07/17/1999    İstanbul  Big Cities   IL   4  5.0  4.0  4.0   2  ...   \n1   1  02/14/2008      Ankara  Big Cities   FC   4  5.0  4.0  4.0   1  ...   \n2   2  03/09/2013  Diyarbakır       Other   IL   2  4.0  2.0  5.0   2  ...   \n3   3  02/02/2012       Tokat       Other   IL   6  4.5  6.0  6.0   4  ...   \n4   4  05/09/2009   Gaziantep       Other   IL   3  4.0  3.0  4.0   2  ...   \n\n   P29  P30  P31  P32  P33  P34  P35  P36  P37    revenue  \n0  3.0    5    3    4    5    5    4    3    4  5653753.0  \n1  3.0    0    0    0    0    0    0    0    0  6923131.0  \n2  3.0    0    0    0    0    0    0    0    0  2055379.0  \n3  7.5   25   12   10    6   18   12   12    6  2675511.0  \n4  3.0    5    1    3    2    3    4    3    3  4316715.0  \n\n[5 rows x 43 columns]",
      "text/html": "<div>\n<style scoped>\n    .dataframe tbody tr th:only-of-type {\n        vertical-align: middle;\n    }\n\n    .dataframe tbody tr th {\n        vertical-align: top;\n    }\n\n    .dataframe thead th {\n        text-align: right;\n    }\n</style>\n<table border=\"1\" class=\"dataframe\">\n  <thead>\n    <tr style=\"text-align: right;\">\n      <th></th>\n      <th>Id</th>\n      <th>Open Date</th>\n      <th>City</th>\n      <th>City Group</th>\n      <th>Type</th>\n      <th>P1</th>\n      <th>P2</th>\n      <th>P3</th>\n      <th>P4</th>\n      <th>P5</th>\n      <th>...</th>\n      <th>P29</th>\n      <th>P30</th>\n      <th>P31</th>\n      <th>P32</th>\n      <th>P33</th>\n      <th>P34</th>\n      <th>P35</th>\n      <th>P36</th>\n      <th>P37</th>\n      <th>revenue</th>\n    </tr>\n  </thead>\n  <tbody>\n    <tr>\n      <th>0</th>\n      <td>0</td>\n      <td>07/17/1999</td>\n      <td>İstanbul</td>\n      <td>Big Cities</td>\n      <td>IL</td>\n      <td>4</td>\n      <td>5.0</td>\n      <td>4.0</td>\n      <td>4.0</td>\n      <td>2</td>\n      <td>...</td>\n      <td>3.0</td>\n      <td>5</td>\n      <td>3</td>\n      <td>4</td>\n      <td>5</td>\n      <td>5</td>\n      <td>4</td>\n      <td>3</td>\n      <td>4</td>\n      <td>5653753.0</td>\n    </tr>\n    <tr>\n      <th>1</th>\n      <td>1</td>\n      <td>02/14/2008</td>\n      <td>Ankara</td>\n      <td>Big Cities</td>\n      <td>FC</td>\n      <td>4</td>\n      <td>5.0</td>\n      <td>4.0</td>\n      <td>4.0</td>\n      <td>1</td>\n      <td>...</td>\n      <td>3.0</td>\n      <td>0</td>\n      <td>0</td>\n      <td>0</td>\n      <td>0</td>\n      <td>0</td>\n      <td>0</td>\n      <td>0</td>\n      <td>0</td>\n      <td>6923131.0</td>\n    </tr>\n    <tr>\n      <th>2</th>\n      <td>2</td>\n      <td>03/09/2013</td>\n      <td>Diyarbakır</td>\n      <td>Other</td>\n      <td>IL</td>\n      <td>2</td>\n      <td>4.0</td>\n      <td>2.0</td>\n      <td>5.0</td>\n      <td>2</td>\n      <td>...</td>\n      <td>3.0</td>\n      <td>0</td>\n      <td>0</td>\n      <td>0</td>\n      <td>0</td>\n      <td>0</td>\n      <td>0</td>\n      <td>0</td>\n      <td>0</td>\n      <td>2055379.0</td>\n    </tr>\n    <tr>\n      <th>3</th>\n      <td>3</td>\n      <td>02/02/2012</td>\n      <td>Tokat</td>\n      <td>Other</td>\n      <td>IL</td>\n      <td>6</td>\n      <td>4.5</td>\n      <td>6.0</td>\n      <td>6.0</td>\n      <td>4</td>\n      <td>...</td>\n      <td>7.5</td>\n      <td>25</td>\n      <td>12</td>\n      <td>10</td>\n      <td>6</td>\n      <td>18</td>\n      <td>12</td>\n      <td>12</td>\n      <td>6</td>\n      <td>2675511.0</td>\n    </tr>\n    <tr>\n      <th>4</th>\n      <td>4</td>\n      <td>05/09/2009</td>\n      <td>Gaziantep</td>\n      <td>Other</td>\n      <td>IL</td>\n      <td>3</td>\n      <td>4.0</td>\n      <td>3.0</td>\n      <td>4.0</td>\n      <td>2</td>\n      <td>...</td>\n      <td>3.0</td>\n      <td>5</td>\n      <td>1</td>\n      <td>3</td>\n      <td>2</td>\n      <td>3</td>\n      <td>4</td>\n      <td>3</td>\n      <td>3</td>\n      <td>4316715.0</td>\n    </tr>\n  </tbody>\n</table>\n<p>5 rows × 43 columns</p>\n</div>"
     },
     "execution_count": 2,
     "metadata": {},
     "output_type": "execute_result"
    }
   ],
   "source": [
    "# reding the csv data\n",
    "trainData = pd.read_csv('train.csv')\n",
    "testData = pd.read_csv('test.csv')\n",
    "trainData.head()"
   ]
  },
  {
   "cell_type": "code",
   "execution_count": 3,
   "metadata": {
    "pycharm": {
     "name": "#%%\n"
    }
   },
   "outputs": [
    {
     "name": "stdout",
     "output_type": "stream",
     "text": [
      "<class 'pandas.core.frame.DataFrame'>\n",
      "RangeIndex: 137 entries, 0 to 136\n",
      "Data columns (total 43 columns):\n",
      " #   Column      Non-Null Count  Dtype  \n",
      "---  ------      --------------  -----  \n",
      " 0   Id          137 non-null    int64  \n",
      " 1   Open Date   137 non-null    object \n",
      " 2   City        137 non-null    object \n",
      " 3   City Group  137 non-null    object \n",
      " 4   Type        137 non-null    object \n",
      " 5   P1          137 non-null    int64  \n",
      " 6   P2          137 non-null    float64\n",
      " 7   P3          137 non-null    float64\n",
      " 8   P4          137 non-null    float64\n",
      " 9   P5          137 non-null    int64  \n",
      " 10  P6          137 non-null    int64  \n",
      " 11  P7          137 non-null    int64  \n",
      " 12  P8          137 non-null    int64  \n",
      " 13  P9          137 non-null    int64  \n",
      " 14  P10         137 non-null    int64  \n",
      " 15  P11         137 non-null    int64  \n",
      " 16  P12         137 non-null    int64  \n",
      " 17  P13         137 non-null    float64\n",
      " 18  P14         137 non-null    int64  \n",
      " 19  P15         137 non-null    int64  \n",
      " 20  P16         137 non-null    int64  \n",
      " 21  P17         137 non-null    int64  \n",
      " 22  P18         137 non-null    int64  \n",
      " 23  P19         137 non-null    int64  \n",
      " 24  P20         137 non-null    int64  \n",
      " 25  P21         137 non-null    int64  \n",
      " 26  P22         137 non-null    int64  \n",
      " 27  P23         137 non-null    int64  \n",
      " 28  P24         137 non-null    int64  \n",
      " 29  P25         137 non-null    int64  \n",
      " 30  P26         137 non-null    float64\n",
      " 31  P27         137 non-null    float64\n",
      " 32  P28         137 non-null    float64\n",
      " 33  P29         137 non-null    float64\n",
      " 34  P30         137 non-null    int64  \n",
      " 35  P31         137 non-null    int64  \n",
      " 36  P32         137 non-null    int64  \n",
      " 37  P33         137 non-null    int64  \n",
      " 38  P34         137 non-null    int64  \n",
      " 39  P35         137 non-null    int64  \n",
      " 40  P36         137 non-null    int64  \n",
      " 41  P37         137 non-null    int64  \n",
      " 42  revenue     137 non-null    float64\n",
      "dtypes: float64(9), int64(30), object(4)\n",
      "memory usage: 46.1+ KB\n"
     ]
    }
   ],
   "source": [
    "trainData.info()"
   ]
  },
  {
   "cell_type": "code",
   "execution_count": 4,
   "outputs": [],
   "source": [
    "# Numerical columns\n",
    "num_col = trainData.select_dtypes(exclude=['object']).columns\n",
    "\n",
    "# Categorial columns\n",
    "cat_col = trainData.select_dtypes(include=['object']).columns"
   ],
   "metadata": {
    "collapsed": false,
    "pycharm": {
     "name": "#%%\n"
    }
   }
  },
  {
   "cell_type": "code",
   "execution_count": 5,
   "outputs": [
    {
     "data": {
      "text/plain": "Index(['Id', 'P1', 'P2', 'P3', 'P4', 'P5', 'P6', 'P7', 'P8', 'P9', 'P10',\n       'P11', 'P12', 'P13', 'P14', 'P15', 'P16', 'P17', 'P18', 'P19', 'P20',\n       'P21', 'P22', 'P23', 'P24', 'P25', 'P26', 'P27', 'P28', 'P29', 'P30',\n       'P31', 'P32', 'P33', 'P34', 'P35', 'P36', 'P37', 'revenue'],\n      dtype='object')"
     },
     "execution_count": 5,
     "metadata": {},
     "output_type": "execute_result"
    }
   ],
   "source": [
    "num_col"
   ],
   "metadata": {
    "collapsed": false,
    "pycharm": {
     "name": "#%%\n"
    }
   }
  },
  {
   "cell_type": "code",
   "execution_count": 6,
   "outputs": [
    {
     "data": {
      "text/plain": "Index(['Open Date', 'City', 'City Group', 'Type'], dtype='object')"
     },
     "execution_count": 6,
     "metadata": {},
     "output_type": "execute_result"
    }
   ],
   "source": [
    "cat_col"
   ],
   "metadata": {
    "collapsed": false,
    "pycharm": {
     "name": "#%%\n"
    }
   }
  },
  {
   "cell_type": "code",
   "execution_count": 7,
   "outputs": [
    {
     "data": {
      "text/plain": "   Id   Open Date            City  City Group Type  P1   P2   P3   P4  P5  \\\n0   0  01/22/2011           Niğde       Other   FC   1  4.0  4.0  4.0   1   \n1   1  03/18/2011           Konya       Other   IL   3  4.0  4.0  4.0   2   \n2   2  10/30/2013          Ankara  Big Cities   FC   3  4.0  4.0  4.0   2   \n3   3  05/06/2013         Kocaeli       Other   IL   2  4.0  4.0  4.0   2   \n4   4  07/31/2013  Afyonkarahisar       Other   FC   2  4.0  4.0  4.0   1   \n\n   ...  P28  P29  P30  P31  P32  P33  P34  P35  P36  P37  \n0  ...  2.0  3.0    0    0    0    0    0    0    0    0  \n1  ...  1.0  3.0    0    0    0    0    0    0    0    0  \n2  ...  2.0  3.0    0    0    0    0    0    0    0    0  \n3  ...  2.0  3.0    0    4    0    0    0    0    0    0  \n4  ...  5.0  3.0    0    0    0    0    0    0    0    0  \n\n[5 rows x 42 columns]",
      "text/html": "<div>\n<style scoped>\n    .dataframe tbody tr th:only-of-type {\n        vertical-align: middle;\n    }\n\n    .dataframe tbody tr th {\n        vertical-align: top;\n    }\n\n    .dataframe thead th {\n        text-align: right;\n    }\n</style>\n<table border=\"1\" class=\"dataframe\">\n  <thead>\n    <tr style=\"text-align: right;\">\n      <th></th>\n      <th>Id</th>\n      <th>Open Date</th>\n      <th>City</th>\n      <th>City Group</th>\n      <th>Type</th>\n      <th>P1</th>\n      <th>P2</th>\n      <th>P3</th>\n      <th>P4</th>\n      <th>P5</th>\n      <th>...</th>\n      <th>P28</th>\n      <th>P29</th>\n      <th>P30</th>\n      <th>P31</th>\n      <th>P32</th>\n      <th>P33</th>\n      <th>P34</th>\n      <th>P35</th>\n      <th>P36</th>\n      <th>P37</th>\n    </tr>\n  </thead>\n  <tbody>\n    <tr>\n      <th>0</th>\n      <td>0</td>\n      <td>01/22/2011</td>\n      <td>Niğde</td>\n      <td>Other</td>\n      <td>FC</td>\n      <td>1</td>\n      <td>4.0</td>\n      <td>4.0</td>\n      <td>4.0</td>\n      <td>1</td>\n      <td>...</td>\n      <td>2.0</td>\n      <td>3.0</td>\n      <td>0</td>\n      <td>0</td>\n      <td>0</td>\n      <td>0</td>\n      <td>0</td>\n      <td>0</td>\n      <td>0</td>\n      <td>0</td>\n    </tr>\n    <tr>\n      <th>1</th>\n      <td>1</td>\n      <td>03/18/2011</td>\n      <td>Konya</td>\n      <td>Other</td>\n      <td>IL</td>\n      <td>3</td>\n      <td>4.0</td>\n      <td>4.0</td>\n      <td>4.0</td>\n      <td>2</td>\n      <td>...</td>\n      <td>1.0</td>\n      <td>3.0</td>\n      <td>0</td>\n      <td>0</td>\n      <td>0</td>\n      <td>0</td>\n      <td>0</td>\n      <td>0</td>\n      <td>0</td>\n      <td>0</td>\n    </tr>\n    <tr>\n      <th>2</th>\n      <td>2</td>\n      <td>10/30/2013</td>\n      <td>Ankara</td>\n      <td>Big Cities</td>\n      <td>FC</td>\n      <td>3</td>\n      <td>4.0</td>\n      <td>4.0</td>\n      <td>4.0</td>\n      <td>2</td>\n      <td>...</td>\n      <td>2.0</td>\n      <td>3.0</td>\n      <td>0</td>\n      <td>0</td>\n      <td>0</td>\n      <td>0</td>\n      <td>0</td>\n      <td>0</td>\n      <td>0</td>\n      <td>0</td>\n    </tr>\n    <tr>\n      <th>3</th>\n      <td>3</td>\n      <td>05/06/2013</td>\n      <td>Kocaeli</td>\n      <td>Other</td>\n      <td>IL</td>\n      <td>2</td>\n      <td>4.0</td>\n      <td>4.0</td>\n      <td>4.0</td>\n      <td>2</td>\n      <td>...</td>\n      <td>2.0</td>\n      <td>3.0</td>\n      <td>0</td>\n      <td>4</td>\n      <td>0</td>\n      <td>0</td>\n      <td>0</td>\n      <td>0</td>\n      <td>0</td>\n      <td>0</td>\n    </tr>\n    <tr>\n      <th>4</th>\n      <td>4</td>\n      <td>07/31/2013</td>\n      <td>Afyonkarahisar</td>\n      <td>Other</td>\n      <td>FC</td>\n      <td>2</td>\n      <td>4.0</td>\n      <td>4.0</td>\n      <td>4.0</td>\n      <td>1</td>\n      <td>...</td>\n      <td>5.0</td>\n      <td>3.0</td>\n      <td>0</td>\n      <td>0</td>\n      <td>0</td>\n      <td>0</td>\n      <td>0</td>\n      <td>0</td>\n      <td>0</td>\n      <td>0</td>\n    </tr>\n  </tbody>\n</table>\n<p>5 rows × 42 columns</p>\n</div>"
     },
     "execution_count": 7,
     "metadata": {},
     "output_type": "execute_result"
    }
   ],
   "source": [
    "testData.head()"
   ],
   "metadata": {
    "collapsed": false,
    "pycharm": {
     "name": "#%%\n"
    }
   }
  },
  {
   "cell_type": "code",
   "execution_count": 8,
   "outputs": [
    {
     "name": "stdout",
     "output_type": "stream",
     "text": [
      "Train (137, 43)\n",
      "Test (100000, 42)\n"
     ]
    }
   ],
   "source": [
    "print(\"Train\", trainData.shape)\n",
    "print(\"Test\", testData.shape)"
   ],
   "metadata": {
    "collapsed": false,
    "pycharm": {
     "name": "#%%\n"
    }
   }
  },
  {
   "cell_type": "markdown",
   "source": [
    "# PRE-PROCESSING AND SOME ANALYSIS"
   ],
   "metadata": {
    "collapsed": false,
    "pycharm": {
     "name": "#%% md\n"
    }
   }
  },
  {
   "cell_type": "code",
   "execution_count": 9,
   "outputs": [
    {
     "data": {
      "text/plain": "[]"
     },
     "execution_count": 9,
     "metadata": {},
     "output_type": "execute_result"
    }
   ],
   "source": [
    "# get column with null values\n",
    "trainData.columns[trainData.isna().any()].to_list()"
   ],
   "metadata": {
    "collapsed": false,
    "pycharm": {
     "name": "#%%\n"
    }
   }
  },
  {
   "cell_type": "code",
   "execution_count": 10,
   "outputs": [
    {
     "name": "stdout",
     "output_type": "stream",
     "text": [
      "type <class 'pandas.core.series.Series'>\n",
      "dtype object\n"
     ]
    }
   ],
   "source": [
    "print('type', type(trainData['Open Date']))\n",
    "print('dtype', trainData['Open Date'].dtype)"
   ],
   "metadata": {
    "collapsed": false,
    "pycharm": {
     "name": "#%%\n"
    }
   }
  },
  {
   "cell_type": "code",
   "execution_count": 11,
   "outputs": [],
   "source": [
    "trainData['Open Date'] = pd.to_datetime(trainData['Open Date'], format='%m/%d/%Y')\n",
    "trainData['OpenDays'] = \"\"\n",
    "\n",
    "# PORQUE USAR ESTÁ DATA\n",
    "dateLastTrain = pd.DataFrame({ 'Date': np.repeat(['01/01/2018'], [len(trainData)]) })\n",
    "dateLastTrain['Date'] = pd.to_datetime(dateLastTrain['Date'], format='%m/%d/%Y')\n",
    "dateLastTrain.head()\n",
    "\n",
    "trainData['OpenDays'] = dateLastTrain['Date'] - trainData['Open Date']\n",
    "trainData['OpenDays'] = trainData['OpenDays'].astype('timedelta64[D]').astype(int)"
   ],
   "metadata": {
    "collapsed": false,
    "pycharm": {
     "name": "#%%\n"
    }
   }
  },
  {
   "cell_type": "code",
   "execution_count": 12,
   "outputs": [
    {
     "data": {
      "text/plain": "   Id  Open Date        City  City Group Type  P1   P2   P3   P4  P5  ...  \\\n0   0 1999-07-17    İstanbul  Big Cities   IL   4  5.0  4.0  4.0   2  ...   \n1   1 2008-02-14      Ankara  Big Cities   FC   4  5.0  4.0  4.0   1  ...   \n2   2 2013-03-09  Diyarbakır       Other   IL   2  4.0  2.0  5.0   2  ...   \n3   3 2012-02-02       Tokat       Other   IL   6  4.5  6.0  6.0   4  ...   \n4   4 2009-05-09   Gaziantep       Other   IL   3  4.0  3.0  4.0   2  ...   \n\n   P30  P31  P32  P33  P34  P35  P36  P37    revenue  OpenDays  \n0    5    3    4    5    5    4    3    4  5653753.0      6743  \n1    0    0    0    0    0    0    0    0  6923131.0      3609  \n2    0    0    0    0    0    0    0    0  2055379.0      1759  \n3   25   12   10    6   18   12   12    6  2675511.0      2160  \n4    5    1    3    2    3    4    3    3  4316715.0      3159  \n\n[5 rows x 44 columns]",
      "text/html": "<div>\n<style scoped>\n    .dataframe tbody tr th:only-of-type {\n        vertical-align: middle;\n    }\n\n    .dataframe tbody tr th {\n        vertical-align: top;\n    }\n\n    .dataframe thead th {\n        text-align: right;\n    }\n</style>\n<table border=\"1\" class=\"dataframe\">\n  <thead>\n    <tr style=\"text-align: right;\">\n      <th></th>\n      <th>Id</th>\n      <th>Open Date</th>\n      <th>City</th>\n      <th>City Group</th>\n      <th>Type</th>\n      <th>P1</th>\n      <th>P2</th>\n      <th>P3</th>\n      <th>P4</th>\n      <th>P5</th>\n      <th>...</th>\n      <th>P30</th>\n      <th>P31</th>\n      <th>P32</th>\n      <th>P33</th>\n      <th>P34</th>\n      <th>P35</th>\n      <th>P36</th>\n      <th>P37</th>\n      <th>revenue</th>\n      <th>OpenDays</th>\n    </tr>\n  </thead>\n  <tbody>\n    <tr>\n      <th>0</th>\n      <td>0</td>\n      <td>1999-07-17</td>\n      <td>İstanbul</td>\n      <td>Big Cities</td>\n      <td>IL</td>\n      <td>4</td>\n      <td>5.0</td>\n      <td>4.0</td>\n      <td>4.0</td>\n      <td>2</td>\n      <td>...</td>\n      <td>5</td>\n      <td>3</td>\n      <td>4</td>\n      <td>5</td>\n      <td>5</td>\n      <td>4</td>\n      <td>3</td>\n      <td>4</td>\n      <td>5653753.0</td>\n      <td>6743</td>\n    </tr>\n    <tr>\n      <th>1</th>\n      <td>1</td>\n      <td>2008-02-14</td>\n      <td>Ankara</td>\n      <td>Big Cities</td>\n      <td>FC</td>\n      <td>4</td>\n      <td>5.0</td>\n      <td>4.0</td>\n      <td>4.0</td>\n      <td>1</td>\n      <td>...</td>\n      <td>0</td>\n      <td>0</td>\n      <td>0</td>\n      <td>0</td>\n      <td>0</td>\n      <td>0</td>\n      <td>0</td>\n      <td>0</td>\n      <td>6923131.0</td>\n      <td>3609</td>\n    </tr>\n    <tr>\n      <th>2</th>\n      <td>2</td>\n      <td>2013-03-09</td>\n      <td>Diyarbakır</td>\n      <td>Other</td>\n      <td>IL</td>\n      <td>2</td>\n      <td>4.0</td>\n      <td>2.0</td>\n      <td>5.0</td>\n      <td>2</td>\n      <td>...</td>\n      <td>0</td>\n      <td>0</td>\n      <td>0</td>\n      <td>0</td>\n      <td>0</td>\n      <td>0</td>\n      <td>0</td>\n      <td>0</td>\n      <td>2055379.0</td>\n      <td>1759</td>\n    </tr>\n    <tr>\n      <th>3</th>\n      <td>3</td>\n      <td>2012-02-02</td>\n      <td>Tokat</td>\n      <td>Other</td>\n      <td>IL</td>\n      <td>6</td>\n      <td>4.5</td>\n      <td>6.0</td>\n      <td>6.0</td>\n      <td>4</td>\n      <td>...</td>\n      <td>25</td>\n      <td>12</td>\n      <td>10</td>\n      <td>6</td>\n      <td>18</td>\n      <td>12</td>\n      <td>12</td>\n      <td>6</td>\n      <td>2675511.0</td>\n      <td>2160</td>\n    </tr>\n    <tr>\n      <th>4</th>\n      <td>4</td>\n      <td>2009-05-09</td>\n      <td>Gaziantep</td>\n      <td>Other</td>\n      <td>IL</td>\n      <td>3</td>\n      <td>4.0</td>\n      <td>3.0</td>\n      <td>4.0</td>\n      <td>2</td>\n      <td>...</td>\n      <td>5</td>\n      <td>1</td>\n      <td>3</td>\n      <td>2</td>\n      <td>3</td>\n      <td>4</td>\n      <td>3</td>\n      <td>3</td>\n      <td>4316715.0</td>\n      <td>3159</td>\n    </tr>\n  </tbody>\n</table>\n<p>5 rows × 44 columns</p>\n</div>"
     },
     "execution_count": 12,
     "metadata": {},
     "output_type": "execute_result"
    }
   ],
   "source": [
    "trainData.head()"
   ],
   "metadata": {
    "collapsed": false,
    "pycharm": {
     "name": "#%%\n"
    }
   }
  },
  {
   "cell_type": "markdown",
   "source": [
    "# Comparing the revenue of big cities and other cities"
   ],
   "metadata": {
    "collapsed": false,
    "pycharm": {
     "name": "#%% md\n"
    }
   }
  },
  {
   "cell_type": "code",
   "execution_count": 13,
   "outputs": [
    {
     "data": {
      "text/plain": "<AxesSubplot:xlabel='City Group', ylabel='revenue'>"
     },
     "execution_count": 13,
     "metadata": {},
     "output_type": "execute_result"
    },
    {
     "data": {
      "text/plain": "<Figure size 432x288 with 1 Axes>",
      "image/png": "[encoded data removed]"
     },
     "metadata": {},
     "output_type": "display_data"
    }
   ],
   "source": [
    "cityPerc = trainData[['City Group', 'revenue']].groupby(['City Group'], as_index=False).mean()\n",
    "sns.barplot(x='City Group', y='revenue', data=cityPerc)"
   ],
   "metadata": {
    "collapsed": false,
    "pycharm": {
     "name": "#%%\n"
    }
   }
  },
  {
   "cell_type": "markdown",
   "source": [
    "# Sorting the cities by revenue; getting the max earned cities"
   ],
   "metadata": {
    "collapsed": false,
    "pycharm": {
     "name": "#%% md\n"
    }
   }
  },
  {
   "cell_type": "code",
   "execution_count": 14,
   "outputs": [
    {
     "data": {
      "text/plain": "<AxesSubplot:xlabel='City', ylabel='revenue'>"
     },
     "execution_count": 14,
     "metadata": {},
     "output_type": "execute_result"
    },
    {
     "data": {
      "text/plain": "<Figure size 432x288 with 1 Axes>",
      "image/png": "[encoded data removed]"
     },
     "metadata": {},
     "output_type": "display_data"
    }
   ],
   "source": [
    "cityPerc = trainData[['City', 'revenue']].groupby(['City'], as_index=False).mean()\n",
    "newDf = cityPerc.sort_values(['revenue'], ascending=False)\n",
    "sns.barplot(x='City', y='revenue', data=newDf.head(15))"
   ],
   "metadata": {
    "collapsed": false,
    "pycharm": {
     "name": "#%%\n"
    }
   }
  },
  {
   "cell_type": "code",
   "execution_count": 15,
   "outputs": [
    {
     "data": {
      "text/plain": "<AxesSubplot:xlabel='City', ylabel='revenue'>"
     },
     "execution_count": 15,
     "metadata": {},
     "output_type": "execute_result"
    },
    {
     "data": {
      "text/plain": "<Figure size 432x288 with 1 Axes>",
      "image/png": "[encoded data removed]"
     },
     "metadata": {},
     "output_type": "display_data"
    }
   ],
   "source": [
    "cityPerc = trainData[['City', 'revenue']].groupby(['City'], as_index=False).mean()\n",
    "newDf = cityPerc.sort_values(['revenue'], ascending=True)\n",
    "sns.barplot(x='City', y='revenue', data=newDf.head(15))"
   ],
   "metadata": {
    "collapsed": false,
    "pycharm": {
     "name": "#%%\n"
    }
   }
  },
  {
   "cell_type": "markdown",
   "source": [
    "# Plot about revenues of specific restaurant types"
   ],
   "metadata": {
    "collapsed": false,
    "pycharm": {
     "name": "#%% md\n"
    }
   }
  },
  {
   "cell_type": "code",
   "execution_count": 16,
   "outputs": [
    {
     "data": {
      "text/plain": "<AxesSubplot:xlabel='Type', ylabel='revenue'>"
     },
     "execution_count": 16,
     "metadata": {},
     "output_type": "execute_result"
    },
    {
     "data": {
      "text/plain": "<Figure size 432x288 with 1 Axes>",
      "image/png": "[encoded data removed]"
     },
     "metadata": {},
     "output_type": "display_data"
    }
   ],
   "source": [
    "typePerc = trainData[['Type', 'revenue']].groupby(['Type'], as_index=False).mean()\n",
    "sns.barplot(x='Type', y='revenue', data=typePerc)"
   ],
   "metadata": {
    "collapsed": false,
    "pycharm": {
     "name": "#%%\n"
    }
   }
  },
  {
   "cell_type": "markdown",
   "source": [
    "# Plot about working days of specific restaurant types"
   ],
   "metadata": {
    "collapsed": false,
    "pycharm": {
     "name": "#%% md\n"
    }
   }
  },
  {
   "cell_type": "code",
   "execution_count": 17,
   "outputs": [
    {
     "data": {
      "text/plain": "<AxesSubplot:xlabel='Type', ylabel='OpenDays'>"
     },
     "execution_count": 17,
     "metadata": {},
     "output_type": "execute_result"
    },
    {
     "data": {
      "text/plain": "<Figure size 432x288 with 1 Axes>",
      "image/png": "[encoded data removed]"
     },
     "metadata": {},
     "output_type": "display_data"
    }
   ],
   "source": [
    "openDaysPerc = trainData[['Type', 'OpenDays']].groupby(['Type'], as_index=False).mean()\n",
    "sns.barplot(x='Type', y='OpenDays', data=openDaysPerc)"
   ],
   "metadata": {
    "collapsed": false,
    "pycharm": {
     "name": "#%%\n"
    }
   }
  },
  {
   "cell_type": "code",
   "execution_count": 25,
   "outputs": [
    {
     "data": {
      "text/plain": "   Id  Open Date        City  City Group Type  P1   P2   P3   P4  P5  ...  \\\n0   0 1999-07-17    İstanbul  Big Cities   IL   4  5.0  4.0  4.0   2  ...   \n1   1 2008-02-14      Ankara  Big Cities   FC   4  5.0  4.0  4.0   1  ...   \n2   2 2013-03-09  Diyarbakır       Other   IL   2  4.0  2.0  5.0   2  ...   \n3   3 2012-02-02       Tokat       Other   IL   6  4.5  6.0  6.0   4  ...   \n4   4 2009-05-09   Gaziantep       Other   IL   3  4.0  3.0  4.0   2  ...   \n\n   P30  P31  P32  P33  P34  P35  P36  P37    revenue  OpenDays  \n0    5    3    4    5    5    4    3    4  5653753.0      6743  \n1    0    0    0    0    0    0    0    0  6923131.0      3609  \n2    0    0    0    0    0    0    0    0  2055379.0      1759  \n3   25   12   10    6   18   12   12    6  2675511.0      2160  \n4    5    1    3    2    3    4    3    3  4316715.0      3159  \n\n[5 rows x 44 columns]",
      "text/html": "<div>\n<style scoped>\n    .dataframe tbody tr th:only-of-type {\n        vertical-align: middle;\n    }\n\n    .dataframe tbody tr th {\n        vertical-align: top;\n    }\n\n    .dataframe thead th {\n        text-align: right;\n    }\n</style>\n<table border=\"1\" class=\"dataframe\">\n  <thead>\n    <tr style=\"text-align: right;\">\n      <th></th>\n      <th>Id</th>\n      <th>Open Date</th>\n      <th>City</th>\n      <th>City Group</th>\n      <th>Type</th>\n      <th>P1</th>\n      <th>P2</th>\n      <th>P3</th>\n      <th>P4</th>\n      <th>P5</th>\n      <th>...</th>\n      <th>P30</th>\n      <th>P31</th>\n      <th>P32</th>\n      <th>P33</th>\n      <th>P34</th>\n      <th>P35</th>\n      <th>P36</th>\n      <th>P37</th>\n      <th>revenue</th>\n      <th>OpenDays</th>\n    </tr>\n  </thead>\n  <tbody>\n    <tr>\n      <th>0</th>\n      <td>0</td>\n      <td>1999-07-17</td>\n      <td>İstanbul</td>\n      <td>Big Cities</td>\n      <td>IL</td>\n      <td>4</td>\n      <td>5.0</td>\n      <td>4.0</td>\n      <td>4.0</td>\n      <td>2</td>\n      <td>...</td>\n      <td>5</td>\n      <td>3</td>\n      <td>4</td>\n      <td>5</td>\n      <td>5</td>\n      <td>4</td>\n      <td>3</td>\n      <td>4</td>\n      <td>5653753.0</td>\n      <td>6743</td>\n    </tr>\n    <tr>\n      <th>1</th>\n      <td>1</td>\n      <td>2008-02-14</td>\n      <td>Ankara</td>\n      <td>Big Cities</td>\n      <td>FC</td>\n      <td>4</td>\n      <td>5.0</td>\n      <td>4.0</td>\n      <td>4.0</td>\n      <td>1</td>\n      <td>...</td>\n      <td>0</td>\n      <td>0</td>\n      <td>0</td>\n      <td>0</td>\n      <td>0</td>\n      <td>0</td>\n      <td>0</td>\n      <td>0</td>\n      <td>6923131.0</td>\n      <td>3609</td>\n    </tr>\n    <tr>\n      <th>2</th>\n      <td>2</td>\n      <td>2013-03-09</td>\n      <td>Diyarbakır</td>\n      <td>Other</td>\n      <td>IL</td>\n      <td>2</td>\n      <td>4.0</td>\n      <td>2.0</td>\n      <td>5.0</td>\n      <td>2</td>\n      <td>...</td>\n      <td>0</td>\n      <td>0</td>\n      <td>0</td>\n      <td>0</td>\n      <td>0</td>\n      <td>0</td>\n      <td>0</td>\n      <td>0</td>\n      <td>2055379.0</td>\n      <td>1759</td>\n    </tr>\n    <tr>\n      <th>3</th>\n      <td>3</td>\n      <td>2012-02-02</td>\n      <td>Tokat</td>\n      <td>Other</td>\n      <td>IL</td>\n      <td>6</td>\n      <td>4.5</td>\n      <td>6.0</td>\n      <td>6.0</td>\n      <td>4</td>\n      <td>...</td>\n      <td>25</td>\n      <td>12</td>\n      <td>10</td>\n      <td>6</td>\n      <td>18</td>\n      <td>12</td>\n      <td>12</td>\n      <td>6</td>\n      <td>2675511.0</td>\n      <td>2160</td>\n    </tr>\n    <tr>\n      <th>4</th>\n      <td>4</td>\n      <td>2009-05-09</td>\n      <td>Gaziantep</td>\n      <td>Other</td>\n      <td>IL</td>\n      <td>3</td>\n      <td>4.0</td>\n      <td>3.0</td>\n      <td>4.0</td>\n      <td>2</td>\n      <td>...</td>\n      <td>5</td>\n      <td>1</td>\n      <td>3</td>\n      <td>2</td>\n      <td>3</td>\n      <td>4</td>\n      <td>3</td>\n      <td>3</td>\n      <td>4316715.0</td>\n      <td>3159</td>\n    </tr>\n  </tbody>\n</table>\n<p>5 rows × 44 columns</p>\n</div>"
     },
     "execution_count": 25,
     "metadata": {},
     "output_type": "execute_result"
    }
   ],
   "source": [
    "trainData.head()"
   ],
   "metadata": {
    "collapsed": false,
    "pycharm": {
     "name": "#%%\n"
    }
   }
  },
  {
   "cell_type": "code",
   "execution_count": 28,
   "outputs": [
    {
     "data": {
      "text/plain": "<Figure size 1008x864 with 2 Axes>",
      "image/png": "[encoded data removed]"
     },
     "metadata": {},
     "output_type": "display_data"
    }
   ],
   "source": [
    "# Correlation\n",
    "correlation = trainData[num_col].corr()\n",
    "\n",
    "f, ax = plt.subplots(figsize=(14, 12))\n",
    "plt.title('Correlatioin of numeral attributes', size=16)\n",
    "sns.heatmap(correlation)\n",
    "plt.show()"
   ],
   "metadata": {
    "collapsed": false,
    "pycharm": {
     "name": "#%%\n"
    }
   }
  },
  {
   "cell_type": "code",
   "execution_count": 29,
   "outputs": [
    {
     "data": {
      "text/plain": "               Id        P1        P2        P3        P4        P5        P6  \\\nId       1.000000 -0.026351 -0.036991 -0.025033 -0.001914  0.010108 -0.025953   \nP1      -0.026351  1.000000  0.836671  0.695928  0.677941  0.302820  0.747296   \nP2      -0.036991  0.836671  1.000000  0.473551  0.540322  0.203003  0.673106   \nP3      -0.025033  0.695928  0.473551  1.000000  0.443606  0.168891  0.570486   \nP4      -0.001914  0.677941  0.540322  0.443606  1.000000  0.715406  0.595724   \nP5       0.010108  0.302820  0.203003  0.168891  0.715406  1.000000  0.326524   \nP6      -0.025953  0.747296  0.673106  0.570486  0.595724  0.326524  1.000000   \nP7      -0.080977  0.853753  0.769842  0.651489  0.700482  0.446154  0.738388   \nP8      -0.052129  0.760820  0.505116  0.689173  0.654594  0.447577  0.720144   \nP9      -0.068655  0.765743  0.481635  0.741967  0.675336  0.465662  0.676323   \nP10     -0.028977  0.795885  0.498135  0.764191  0.685416  0.462299  0.654594   \nP11      0.013573  0.542735  0.442719  0.417752  0.585285  0.435002  0.432959   \nP12     -0.055813  0.708360  0.428065  0.684071  0.595115  0.409181  0.637594   \nP13     -0.021536  0.708896  0.410924  0.697519  0.571611  0.380722  0.558621   \nP14      0.059383  0.491638  0.365777  0.393765  0.347917  0.079245  0.422343   \nP15      0.034985  0.473155  0.358841  0.379107  0.287313  0.044635  0.426646   \nP16      0.030277  0.544892  0.396337  0.471427  0.379619  0.164822  0.520707   \nP17     -0.017059  0.412963  0.332134  0.327644  0.235605  0.038805  0.380396   \nP18     -0.017792  0.478503  0.348191  0.425214  0.359393  0.193489  0.453924   \nP19     -0.065810  0.802494  0.595681  0.648948  0.725829  0.509874  0.530297   \nP20     -0.019534  0.820953  0.668683  0.682262  0.579561  0.343363  0.664487   \nP21      0.020577  0.654138  0.522294  0.559543  0.545285  0.342726  0.427613   \nP22     -0.046211  0.389116  0.476538  0.243983  0.076177 -0.198689  0.206913   \nP23      0.000609  0.702120  0.513936  0.602325  0.559099  0.354058  0.486043   \nP24     -0.041325  0.425720  0.354225  0.337895  0.213535  0.020124  0.461674   \nP25     -0.020668  0.472057  0.378042  0.358244  0.285547  0.042141  0.485535   \nP26      0.014964  0.505437  0.409526  0.393404  0.288684  0.052430  0.524207   \nP27     -0.032980  0.280761  0.195660  0.257228  0.109555  0.008393  0.334761   \nP28      0.038232  0.843738  0.732712  0.643420  0.641971  0.323253  0.729083   \nP29     -0.041989  0.586532  0.322511  0.571525  0.452364  0.306904  0.563415   \nP30      0.075148  0.487589  0.342005  0.473089  0.387747  0.244032  0.460618   \nP31     -0.019252  0.479175  0.353477  0.406701  0.333626  0.112603  0.477593   \nP32      0.055963  0.552593  0.389376  0.463217  0.440795  0.215568  0.519243   \nP33     -0.019958  0.329795  0.234991  0.312269  0.182820  0.071079  0.300611   \nP34      0.067714  0.570835  0.394319  0.501575  0.434245  0.243040  0.519635   \nP35      0.003073  0.449182  0.314798  0.428504  0.277902  0.173309  0.413645   \nP36      0.040799  0.554951  0.387938  0.484942  0.411664  0.193652  0.524552   \nP37     -0.065791  0.277601  0.161162  0.284065  0.177916  0.033548  0.327594   \nrevenue -0.006277  0.070217  0.191518 -0.024613  0.035685 -0.028191  0.139094   \n\n               P7        P8        P9  ...       P29       P30       P31  \\\nId      -0.080977 -0.052129 -0.068655  ... -0.041989  0.075148 -0.019252   \nP1       0.853753  0.760820  0.765743  ...  0.586532  0.487589  0.479175   \nP2       0.769842  0.505116  0.481635  ...  0.322511  0.342005  0.353477   \nP3       0.651489  0.689173  0.741967  ...  0.571525  0.473089  0.406701   \nP4       0.700482  0.654594  0.675336  ...  0.452364  0.387747  0.333626   \nP5       0.446154  0.447577  0.465662  ...  0.306904  0.244032  0.112603   \nP6       0.738388  0.720144  0.676323  ...  0.563415  0.460618  0.477593   \nP7       1.000000  0.751196  0.775003  ...  0.584071  0.509213  0.452471   \nP8       0.751196  1.000000  0.919956  ...  0.754736  0.454937  0.420425   \nP9       0.775003  0.919956  1.000000  ...  0.789784  0.502670  0.467334   \nP10      0.775642  0.881650  0.961266  ...  0.789510  0.514738  0.462235   \nP11      0.503903  0.230823  0.398431  ...  0.292211  0.410573  0.300331   \nP12      0.733115  0.889829  0.971593  ...  0.797455  0.433005  0.403691   \nP13      0.702162  0.810365  0.905105  ...  0.740722  0.466337  0.425461   \nP14      0.457255  0.351134  0.413468  ...  0.304980  0.812712  0.795637   \nP15      0.429170  0.303275  0.379923  ...  0.299711  0.743738  0.798711   \nP16      0.529988  0.456162  0.517326  ...  0.425590  0.869697  0.899675   \nP17      0.365565  0.294639  0.333071  ...  0.224734  0.739895  0.770449   \nP18      0.496990  0.430591  0.488788  ...  0.420248  0.836870  0.900439   \nP19      0.758294  0.667079  0.717049  ...  0.417782  0.466695  0.369915   \nP20      0.793642  0.612958  0.710714  ...  0.505358  0.593911  0.505542   \nP21      0.604106  0.420807  0.559405  ...  0.267466  0.482010  0.429568   \nP22      0.270211  0.045803  0.055999  ... -0.148172  0.170901  0.181702   \nP23      0.651876  0.512021  0.621546  ...  0.393031  0.475536  0.367508   \nP24      0.375711  0.323116  0.339668  ...  0.247974  0.732452  0.823207   \nP25      0.404787  0.358971  0.379653  ...  0.269835  0.760051  0.850616   \nP26      0.437787  0.396246  0.412378  ...  0.308637  0.790324  0.864259   \nP27      0.279604  0.319507  0.308448  ...  0.270460  0.654312  0.675237   \nP28      0.739868  0.630284  0.635144  ...  0.331344  0.438447  0.369772   \nP29      0.584071  0.754736  0.789784  ...  1.000000  0.356722  0.371893   \nP30      0.509213  0.454937  0.502670  ...  0.356722  1.000000  0.840158   \nP31      0.452471  0.420425  0.467334  ...  0.371893  0.840158  1.000000   \nP32      0.531011  0.516617  0.544749  ...  0.425120  0.881481  0.934778   \nP33      0.339178  0.256416  0.326869  ...  0.249646  0.790581  0.803785   \nP34      0.562561  0.524474  0.582042  ...  0.490329  0.918200  0.864144   \nP35      0.457721  0.405709  0.467916  ...  0.384401  0.874635  0.823262   \nP36      0.543563  0.499777  0.551953  ...  0.457660  0.904491  0.901940   \nP37      0.309678  0.308294  0.330927  ...  0.296405  0.736656  0.787904   \nrevenue  0.051165 -0.084215 -0.050352  ... -0.114846 -0.066203 -0.040418   \n\n              P32       P33       P34       P35       P36       P37   revenue  \nId       0.055963 -0.019958  0.067714  0.003073  0.040799 -0.065791 -0.006277  \nP1       0.552593  0.329795  0.570835  0.449182  0.554951  0.277601  0.070217  \nP2       0.389376  0.234991  0.394319  0.314798  0.387938  0.161162  0.191518  \nP3       0.463217  0.312269  0.501575  0.428504  0.484942  0.284065 -0.024613  \nP4       0.440795  0.182820  0.434245  0.277902  0.411664  0.177916  0.035685  \nP5       0.215568  0.071079  0.243040  0.173309  0.193652  0.033548 -0.028191  \nP6       0.519243  0.300611  0.519635  0.413645  0.524552  0.327594  0.139094  \nP7       0.531011  0.339178  0.562561  0.457721  0.543563  0.309678  0.051165  \nP8       0.516617  0.256416  0.524474  0.405709  0.499777  0.308294 -0.084215  \nP9       0.544749  0.326869  0.582042  0.467916  0.551953  0.330927 -0.050352  \nP10      0.549238  0.320317  0.601956  0.483010  0.565068  0.313748 -0.073220  \nP11      0.358379  0.244698  0.401866  0.291108  0.383485  0.158579  0.084247  \nP12      0.471691  0.281619  0.519051  0.426274  0.491803  0.304963 -0.062193  \nP13      0.499431  0.302684  0.555712  0.457633  0.520219  0.295972 -0.105085  \nP14      0.840592  0.801055  0.853824  0.815550  0.892459  0.776719  0.006441  \nP15      0.797193  0.806085  0.813125  0.819329  0.890441  0.768268  0.000742  \nP16      0.928434  0.823748  0.941628  0.899202  0.981550  0.801029 -0.037997  \nP17      0.772197  0.716934  0.735778  0.781719  0.812184  0.726738  0.067137  \nP18      0.915038  0.861861  0.926000  0.916872  0.952266  0.833428 -0.034537  \nP19      0.437442  0.298000  0.453496  0.346822  0.425475  0.226764  0.027984  \nP20      0.567801  0.420983  0.610553  0.529064  0.587118  0.326929  0.014147  \nP21      0.481878  0.373014  0.525638  0.437753  0.501181  0.273409  0.097411  \nP22      0.169877  0.178341  0.143249  0.156648  0.165467  0.108030  0.083562  \nP23      0.433061  0.316115  0.470396  0.399514  0.448681  0.216329  0.045507  \nP24      0.787841  0.770173  0.763692  0.813077  0.830078  0.787741  0.014222  \nP25      0.849365  0.765023  0.792694  0.781572  0.870674  0.809613  0.036365  \nP26      0.859348  0.764947  0.834661  0.817260  0.888330  0.778074 -0.007650  \nP27      0.649870  0.748135  0.661309  0.723519  0.689364  0.805824 -0.013680  \nP28      0.457892  0.264879  0.448928  0.341164  0.454263  0.215078  0.155534  \nP29      0.425120  0.249646  0.490329  0.384401  0.457660  0.296405 -0.114846  \nP30      0.881481  0.790581  0.918200  0.874635  0.904491  0.736656 -0.066203  \nP31      0.934778  0.803785  0.864144  0.823262  0.901940  0.787904 -0.040418  \nP32      1.000000  0.760670  0.930014  0.837858  0.958152  0.758060 -0.065857  \nP33      0.760670  1.000000  0.797647  0.867296  0.816293  0.879400 -0.032426  \nP34      0.930014  0.797647  1.000000  0.917651  0.970234  0.741039 -0.072343  \nP35      0.837858  0.867296  0.917651  1.000000  0.904110  0.797640 -0.050156  \nP36      0.958152  0.816293  0.970234  0.904110  1.000000  0.805416 -0.050534  \nP37      0.758060  0.879400  0.741039  0.797640  0.805416  1.000000 -0.019051  \nrevenue -0.065857 -0.032426 -0.072343 -0.050156 -0.050534 -0.019051  1.000000  \n\n[39 rows x 39 columns]",
      "text/html": "<div>\n<style scoped>\n    .dataframe tbody tr th:only-of-type {\n        vertical-align: middle;\n    }\n\n    .dataframe tbody tr th {\n        vertical-align: top;\n    }\n\n    .dataframe thead th {\n        text-align: right;\n    }\n</style>\n<table border=\"1\" class=\"dataframe\">\n  <thead>\n    <tr style=\"text-align: right;\">\n      <th></th>\n      <th>Id</th>\n      <th>P1</th>\n      <th>P2</th>\n      <th>P3</th>\n      <th>P4</th>\n      <th>P5</th>\n      <th>P6</th>\n      <th>P7</th>\n      <th>P8</th>\n      <th>P9</th>\n      <th>...</th>\n      <th>P29</th>\n      <th>P30</th>\n      <th>P31</th>\n      <th>P32</th>\n      <th>P33</th>\n      <th>P34</th>\n      <th>P35</th>\n      <th>P36</th>\n      <th>P37</th>\n      <th>revenue</th>\n    </tr>\n  </thead>\n  <tbody>\n    <tr>\n      <th>Id</th>\n      <td>1.000000</td>\n      <td>-0.026351</td>\n      <td>-0.036991</td>\n      <td>-0.025033</td>\n      <td>-0.001914</td>\n      <td>0.010108</td>\n      <td>-0.025953</td>\n      <td>-0.080977</td>\n      <td>-0.052129</td>\n      <td>-0.068655</td>\n      <td>...</td>\n      <td>-0.041989</td>\n      <td>0.075148</td>\n      <td>-0.019252</td>\n      <td>0.055963</td>\n      <td>-0.019958</td>\n      <td>0.067714</td>\n      <td>0.003073</td>\n      <td>0.040799</td>\n      <td>-0.065791</td>\n      <td>-0.006277</td>\n    </tr>\n    <tr>\n      <th>P1</th>\n      <td>-0.026351</td>\n      <td>1.000000</td>\n      <td>0.836671</td>\n      <td>0.695928</td>\n      <td>0.677941</td>\n      <td>0.302820</td>\n      <td>0.747296</td>\n      <td>0.853753</td>\n      <td>0.760820</td>\n      <td>0.765743</td>\n      <td>...</td>\n      <td>0.586532</td>\n      <td>0.487589</td>\n      <td>0.479175</td>\n      <td>0.552593</td>\n      <td>0.329795</td>\n      <td>0.570835</td>\n      <td>0.449182</td>\n      <td>0.554951</td>\n      <td>0.277601</td>\n      <td>0.070217</td>\n    </tr>\n    <tr>\n      <th>P2</th>\n      <td>-0.036991</td>\n      <td>0.836671</td>\n      <td>1.000000</td>\n      <td>0.473551</td>\n      <td>0.540322</td>\n      <td>0.203003</td>\n      <td>0.673106</td>\n      <td>0.769842</td>\n      <td>0.505116</td>\n      <td>0.481635</td>\n      <td>...</td>\n      <td>0.322511</td>\n      <td>0.342005</td>\n      <td>0.353477</td>\n      <td>0.389376</td>\n      <td>0.234991</td>\n      <td>0.394319</td>\n      <td>0.314798</td>\n      <td>0.387938</td>\n      <td>0.161162</td>\n      <td>0.191518</td>\n    </tr>\n    <tr>\n      <th>P3</th>\n      <td>-0.025033</td>\n      <td>0.695928</td>\n      <td>0.473551</td>\n      <td>1.000000</td>\n      <td>0.443606</td>\n      <td>0.168891</td>\n      <td>0.570486</td>\n      <td>0.651489</td>\n      <td>0.689173</td>\n      <td>0.741967</td>\n      <td>...</td>\n      <td>0.571525</td>\n      <td>0.473089</td>\n      <td>0.406701</td>\n      <td>0.463217</td>\n      <td>0.312269</td>\n      <td>0.501575</td>\n      <td>0.428504</td>\n      <td>0.484942</td>\n      <td>0.284065</td>\n      <td>-0.024613</td>\n    </tr>\n    <tr>\n      <th>P4</th>\n      <td>-0.001914</td>\n      <td>0.677941</td>\n      <td>0.540322</td>\n      <td>0.443606</td>\n      <td>1.000000</td>\n      <td>0.715406</td>\n      <td>0.595724</td>\n      <td>0.700482</td>\n      <td>0.654594</td>\n      <td>0.675336</td>\n      <td>...</td>\n      <td>0.452364</td>\n      <td>0.387747</td>\n      <td>0.333626</td>\n      <td>0.440795</td>\n      <td>0.182820</td>\n      <td>0.434245</td>\n      <td>0.277902</td>\n      <td>0.411664</td>\n      <td>0.177916</td>\n      <td>0.035685</td>\n    </tr>\n    <tr>\n      <th>P5</th>\n      <td>0.010108</td>\n      <td>0.302820</td>\n      <td>0.203003</td>\n      <td>0.168891</td>\n      <td>0.715406</td>\n      <td>1.000000</td>\n      <td>0.326524</td>\n      <td>0.446154</td>\n      <td>0.447577</td>\n      <td>0.465662</td>\n      <td>...</td>\n      <td>0.306904</td>\n      <td>0.244032</td>\n      <td>0.112603</td>\n      <td>0.215568</td>\n      <td>0.071079</td>\n      <td>0.243040</td>\n      <td>0.173309</td>\n      <td>0.193652</td>\n      <td>0.033548</td>\n      <td>-0.028191</td>\n    </tr>\n    <tr>\n      <th>P6</th>\n      <td>-0.025953</td>\n      <td>0.747296</td>\n      <td>0.673106</td>\n      <td>0.570486</td>\n      <td>0.595724</td>\n      <td>0.326524</td>\n      <td>1.000000</td>\n      <td>0.738388</td>\n      <td>0.720144</td>\n      <td>0.676323</td>\n      <td>...</td>\n      <td>0.563415</td>\n      <td>0.460618</td>\n      <td>0.477593</td>\n      <td>0.519243</td>\n      <td>0.300611</td>\n      <td>0.519635</td>\n      <td>0.413645</td>\n      <td>0.524552</td>\n      <td>0.327594</td>\n      <td>0.139094</td>\n    </tr>\n    <tr>\n      <th>P7</th>\n      <td>-0.080977</td>\n      <td>0.853753</td>\n      <td>0.769842</td>\n      <td>0.651489</td>\n      <td>0.700482</td>\n      <td>0.446154</td>\n      <td>0.738388</td>\n      <td>1.000000</td>\n      <td>0.751196</td>\n      <td>0.775003</td>\n      <td>...</td>\n      <td>0.584071</td>\n      <td>0.509213</td>\n      <td>0.452471</td>\n      <td>0.531011</td>\n      <td>0.339178</td>\n      <td>0.562561</td>\n      <td>0.457721</td>\n      <td>0.543563</td>\n      <td>0.309678</td>\n      <td>0.051165</td>\n    </tr>\n    <tr>\n      <th>P8</th>\n      <td>-0.052129</td>\n      <td>0.760820</td>\n      <td>0.505116</td>\n      <td>0.689173</td>\n      <td>0.654594</td>\n      <td>0.447577</td>\n      <td>0.720144</td>\n      <td>0.751196</td>\n      <td>1.000000</td>\n      <td>0.919956</td>\n      <td>...</td>\n      <td>0.754736</td>\n      <td>0.454937</td>\n      <td>0.420425</td>\n      <td>0.516617</td>\n      <td>0.256416</td>\n      <td>0.524474</td>\n      <td>0.405709</td>\n      <td>0.499777</td>\n      <td>0.308294</td>\n      <td>-0.084215</td>\n    </tr>\n    <tr>\n      <th>P9</th>\n      <td>-0.068655</td>\n      <td>0.765743</td>\n      <td>0.481635</td>\n      <td>0.741967</td>\n      <td>0.675336</td>\n      <td>0.465662</td>\n      <td>0.676323</td>\n      <td>0.775003</td>\n      <td>0.919956</td>\n      <td>1.000000</td>\n      <td>...</td>\n      <td>0.789784</td>\n      <td>0.502670</td>\n      <td>0.467334</td>\n      <td>0.544749</td>\n      <td>0.326869</td>\n      <td>0.582042</td>\n      <td>0.467916</td>\n      <td>0.551953</td>\n      <td>0.330927</td>\n      <td>-0.050352</td>\n    </tr>\n    <tr>\n      <th>P10</th>\n      <td>-0.028977</td>\n      <td>0.795885</td>\n      <td>0.498135</td>\n      <td>0.764191</td>\n      <td>0.685416</td>\n      <td>0.462299</td>\n      <td>0.654594</td>\n      <td>0.775642</td>\n      <td>0.881650</td>\n      <td>0.961266</td>\n      <td>...</td>\n      <td>0.789510</td>\n      <td>0.514738</td>\n      <td>0.462235</td>\n      <td>0.549238</td>\n      <td>0.320317</td>\n      <td>0.601956</td>\n      <td>0.483010</td>\n      <td>0.565068</td>\n      <td>0.313748</td>\n      <td>-0.073220</td>\n    </tr>\n    <tr>\n      <th>P11</th>\n      <td>0.013573</td>\n      <td>0.542735</td>\n      <td>0.442719</td>\n      <td>0.417752</td>\n      <td>0.585285</td>\n      <td>0.435002</td>\n      <td>0.432959</td>\n      <td>0.503903</td>\n      <td>0.230823</td>\n      <td>0.398431</td>\n      <td>...</td>\n      <td>0.292211</td>\n      <td>0.410573</td>\n      <td>0.300331</td>\n      <td>0.358379</td>\n      <td>0.244698</td>\n      <td>0.401866</td>\n      <td>0.291108</td>\n      <td>0.383485</td>\n      <td>0.158579</td>\n      <td>0.084247</td>\n    </tr>\n    <tr>\n      <th>P12</th>\n      <td>-0.055813</td>\n      <td>0.708360</td>\n      <td>0.428065</td>\n      <td>0.684071</td>\n      <td>0.595115</td>\n      <td>0.409181</td>\n      <td>0.637594</td>\n      <td>0.733115</td>\n      <td>0.889829</td>\n      <td>0.971593</td>\n      <td>...</td>\n      <td>0.797455</td>\n      <td>0.433005</td>\n      <td>0.403691</td>\n      <td>0.471691</td>\n      <td>0.281619</td>\n      <td>0.519051</td>\n      <td>0.426274</td>\n      <td>0.491803</td>\n      <td>0.304963</td>\n      <td>-0.062193</td>\n    </tr>\n    <tr>\n      <th>P13</th>\n      <td>-0.021536</td>\n      <td>0.708896</td>\n      <td>0.410924</td>\n      <td>0.697519</td>\n      <td>0.571611</td>\n      <td>0.380722</td>\n      <td>0.558621</td>\n      <td>0.702162</td>\n      <td>0.810365</td>\n      <td>0.905105</td>\n      <td>...</td>\n      <td>0.740722</td>\n      <td>0.466337</td>\n      <td>0.425461</td>\n      <td>0.499431</td>\n      <td>0.302684</td>\n      <td>0.555712</td>\n      <td>0.457633</td>\n      <td>0.520219</td>\n      <td>0.295972</td>\n      <td>-0.105085</td>\n    </tr>\n    <tr>\n      <th>P14</th>\n      <td>0.059383</td>\n      <td>0.491638</td>\n      <td>0.365777</td>\n      <td>0.393765</td>\n      <td>0.347917</td>\n      <td>0.079245</td>\n      <td>0.422343</td>\n      <td>0.457255</td>\n      <td>0.351134</td>\n      <td>0.413468</td>\n      <td>...</td>\n      <td>0.304980</td>\n      <td>0.812712</td>\n      <td>0.795637</td>\n      <td>0.840592</td>\n      <td>0.801055</td>\n      <td>0.853824</td>\n      <td>0.815550</td>\n      <td>0.892459</td>\n      <td>0.776719</td>\n      <td>0.006441</td>\n    </tr>\n    <tr>\n      <th>P15</th>\n      <td>0.034985</td>\n      <td>0.473155</td>\n      <td>0.358841</td>\n      <td>0.379107</td>\n      <td>0.287313</td>\n      <td>0.044635</td>\n      <td>0.426646</td>\n      <td>0.429170</td>\n      <td>0.303275</td>\n      <td>0.379923</td>\n      <td>...</td>\n      <td>0.299711</td>\n      <td>0.743738</td>\n      <td>0.798711</td>\n      <td>0.797193</td>\n      <td>0.806085</td>\n      <td>0.813125</td>\n      <td>0.819329</td>\n      <td>0.890441</td>\n      <td>0.768268</td>\n      <td>0.000742</td>\n    </tr>\n    <tr>\n      <th>P16</th>\n      <td>0.030277</td>\n      <td>0.544892</td>\n      <td>0.396337</td>\n      <td>0.471427</td>\n      <td>0.379619</td>\n      <td>0.164822</td>\n      <td>0.520707</td>\n      <td>0.529988</td>\n      <td>0.456162</td>\n      <td>0.517326</td>\n      <td>...</td>\n      <td>0.425590</td>\n      <td>0.869697</td>\n      <td>0.899675</td>\n      <td>0.928434</td>\n      <td>0.823748</td>\n      <td>0.941628</td>\n      <td>0.899202</td>\n      <td>0.981550</td>\n      <td>0.801029</td>\n      <td>-0.037997</td>\n    </tr>\n    <tr>\n      <th>P17</th>\n      <td>-0.017059</td>\n      <td>0.412963</td>\n      <td>0.332134</td>\n      <td>0.327644</td>\n      <td>0.235605</td>\n      <td>0.038805</td>\n      <td>0.380396</td>\n      <td>0.365565</td>\n      <td>0.294639</td>\n      <td>0.333071</td>\n      <td>...</td>\n      <td>0.224734</td>\n      <td>0.739895</td>\n      <td>0.770449</td>\n      <td>0.772197</td>\n      <td>0.716934</td>\n      <td>0.735778</td>\n      <td>0.781719</td>\n      <td>0.812184</td>\n      <td>0.726738</td>\n      <td>0.067137</td>\n    </tr>\n    <tr>\n      <th>P18</th>\n      <td>-0.017792</td>\n      <td>0.478503</td>\n      <td>0.348191</td>\n      <td>0.425214</td>\n      <td>0.359393</td>\n      <td>0.193489</td>\n      <td>0.453924</td>\n      <td>0.496990</td>\n      <td>0.430591</td>\n      <td>0.488788</td>\n      <td>...</td>\n      <td>0.420248</td>\n      <td>0.836870</td>\n      <td>0.900439</td>\n      <td>0.915038</td>\n      <td>0.861861</td>\n      <td>0.926000</td>\n      <td>0.916872</td>\n      <td>0.952266</td>\n      <td>0.833428</td>\n      <td>-0.034537</td>\n    </tr>\n    <tr>\n      <th>P19</th>\n      <td>-0.065810</td>\n      <td>0.802494</td>\n      <td>0.595681</td>\n      <td>0.648948</td>\n      <td>0.725829</td>\n      <td>0.509874</td>\n      <td>0.530297</td>\n      <td>0.758294</td>\n      <td>0.667079</td>\n      <td>0.717049</td>\n      <td>...</td>\n      <td>0.417782</td>\n      <td>0.466695</td>\n      <td>0.369915</td>\n      <td>0.437442</td>\n      <td>0.298000</td>\n      <td>0.453496</td>\n      <td>0.346822</td>\n      <td>0.425475</td>\n      <td>0.226764</td>\n      <td>0.027984</td>\n    </tr>\n    <tr>\n      <th>P20</th>\n      <td>-0.019534</td>\n      <td>0.820953</td>\n      <td>0.668683</td>\n      <td>0.682262</td>\n      <td>0.579561</td>\n      <td>0.343363</td>\n      <td>0.664487</td>\n      <td>0.793642</td>\n      <td>0.612958</td>\n      <td>0.710714</td>\n      <td>...</td>\n      <td>0.505358</td>\n      <td>0.593911</td>\n      <td>0.505542</td>\n      <td>0.567801</td>\n      <td>0.420983</td>\n      <td>0.610553</td>\n      <td>0.529064</td>\n      <td>0.587118</td>\n      <td>0.326929</td>\n      <td>0.014147</td>\n    </tr>\n    <tr>\n      <th>P21</th>\n      <td>0.020577</td>\n      <td>0.654138</td>\n      <td>0.522294</td>\n      <td>0.559543</td>\n      <td>0.545285</td>\n      <td>0.342726</td>\n      <td>0.427613</td>\n      <td>0.604106</td>\n      <td>0.420807</td>\n      <td>0.559405</td>\n      <td>...</td>\n      <td>0.267466</td>\n      <td>0.482010</td>\n      <td>0.429568</td>\n      <td>0.481878</td>\n      <td>0.373014</td>\n      <td>0.525638</td>\n      <td>0.437753</td>\n      <td>0.501181</td>\n      <td>0.273409</td>\n      <td>0.097411</td>\n    </tr>\n    <tr>\n      <th>P22</th>\n      <td>-0.046211</td>\n      <td>0.389116</td>\n      <td>0.476538</td>\n      <td>0.243983</td>\n      <td>0.076177</td>\n      <td>-0.198689</td>\n      <td>0.206913</td>\n      <td>0.270211</td>\n      <td>0.045803</td>\n      <td>0.055999</td>\n      <td>...</td>\n      <td>-0.148172</td>\n      <td>0.170901</td>\n      <td>0.181702</td>\n      <td>0.169877</td>\n      <td>0.178341</td>\n      <td>0.143249</td>\n      <td>0.156648</td>\n      <td>0.165467</td>\n      <td>0.108030</td>\n      <td>0.083562</td>\n    </tr>\n    <tr>\n      <th>P23</th>\n      <td>0.000609</td>\n      <td>0.702120</td>\n      <td>0.513936</td>\n      <td>0.602325</td>\n      <td>0.559099</td>\n      <td>0.354058</td>\n      <td>0.486043</td>\n      <td>0.651876</td>\n      <td>0.512021</td>\n      <td>0.621546</td>\n      <td>...</td>\n      <td>0.393031</td>\n      <td>0.475536</td>\n      <td>0.367508</td>\n      <td>0.433061</td>\n      <td>0.316115</td>\n      <td>0.470396</td>\n      <td>0.399514</td>\n      <td>0.448681</td>\n      <td>0.216329</td>\n      <td>0.045507</td>\n    </tr>\n    <tr>\n      <th>P24</th>\n      <td>-0.041325</td>\n      <td>0.425720</td>\n      <td>0.354225</td>\n      <td>0.337895</td>\n      <td>0.213535</td>\n      <td>0.020124</td>\n      <td>0.461674</td>\n      <td>0.375711</td>\n      <td>0.323116</td>\n      <td>0.339668</td>\n      <td>...</td>\n      <td>0.247974</td>\n      <td>0.732452</td>\n      <td>0.823207</td>\n      <td>0.787841</td>\n      <td>0.770173</td>\n      <td>0.763692</td>\n      <td>0.813077</td>\n      <td>0.830078</td>\n      <td>0.787741</td>\n      <td>0.014222</td>\n    </tr>\n    <tr>\n      <th>P25</th>\n      <td>-0.020668</td>\n      <td>0.472057</td>\n      <td>0.378042</td>\n      <td>0.358244</td>\n      <td>0.285547</td>\n      <td>0.042141</td>\n      <td>0.485535</td>\n      <td>0.404787</td>\n      <td>0.358971</td>\n      <td>0.379653</td>\n      <td>...</td>\n      <td>0.269835</td>\n      <td>0.760051</td>\n      <td>0.850616</td>\n      <td>0.849365</td>\n      <td>0.765023</td>\n      <td>0.792694</td>\n      <td>0.781572</td>\n      <td>0.870674</td>\n      <td>0.809613</td>\n      <td>0.036365</td>\n    </tr>\n    <tr>\n      <th>P26</th>\n      <td>0.014964</td>\n      <td>0.505437</td>\n      <td>0.409526</td>\n      <td>0.393404</td>\n      <td>0.288684</td>\n      <td>0.052430</td>\n      <td>0.524207</td>\n      <td>0.437787</td>\n      <td>0.396246</td>\n      <td>0.412378</td>\n      <td>...</td>\n      <td>0.308637</td>\n      <td>0.790324</td>\n      <td>0.864259</td>\n      <td>0.859348</td>\n      <td>0.764947</td>\n      <td>0.834661</td>\n      <td>0.817260</td>\n      <td>0.888330</td>\n      <td>0.778074</td>\n      <td>-0.007650</td>\n    </tr>\n    <tr>\n      <th>P27</th>\n      <td>-0.032980</td>\n      <td>0.280761</td>\n      <td>0.195660</td>\n      <td>0.257228</td>\n      <td>0.109555</td>\n      <td>0.008393</td>\n      <td>0.334761</td>\n      <td>0.279604</td>\n      <td>0.319507</td>\n      <td>0.308448</td>\n      <td>...</td>\n      <td>0.270460</td>\n      <td>0.654312</td>\n      <td>0.675237</td>\n      <td>0.649870</td>\n      <td>0.748135</td>\n      <td>0.661309</td>\n      <td>0.723519</td>\n      <td>0.689364</td>\n      <td>0.805824</td>\n      <td>-0.013680</td>\n    </tr>\n    <tr>\n      <th>P28</th>\n      <td>0.038232</td>\n      <td>0.843738</td>\n      <td>0.732712</td>\n      <td>0.643420</td>\n      <td>0.641971</td>\n      <td>0.323253</td>\n      <td>0.729083</td>\n      <td>0.739868</td>\n      <td>0.630284</td>\n      <td>0.635144</td>\n      <td>...</td>\n      <td>0.331344</td>\n      <td>0.438447</td>\n      <td>0.369772</td>\n      <td>0.457892</td>\n      <td>0.264879</td>\n      <td>0.448928</td>\n      <td>0.341164</td>\n      <td>0.454263</td>\n      <td>0.215078</td>\n      <td>0.155534</td>\n    </tr>\n    <tr>\n      <th>P29</th>\n      <td>-0.041989</td>\n      <td>0.586532</td>\n      <td>0.322511</td>\n      <td>0.571525</td>\n      <td>0.452364</td>\n      <td>0.306904</td>\n      <td>0.563415</td>\n      <td>0.584071</td>\n      <td>0.754736</td>\n      <td>0.789784</td>\n      <td>...</td>\n      <td>1.000000</td>\n      <td>0.356722</td>\n      <td>0.371893</td>\n      <td>0.425120</td>\n      <td>0.249646</td>\n      <td>0.490329</td>\n      <td>0.384401</td>\n      <td>0.457660</td>\n      <td>0.296405</td>\n      <td>-0.114846</td>\n    </tr>\n    <tr>\n      <th>P30</th>\n      <td>0.075148</td>\n      <td>0.487589</td>\n      <td>0.342005</td>\n      <td>0.473089</td>\n      <td>0.387747</td>\n      <td>0.244032</td>\n      <td>0.460618</td>\n      <td>0.509213</td>\n      <td>0.454937</td>\n      <td>0.502670</td>\n      <td>...</td>\n      <td>0.356722</td>\n      <td>1.000000</td>\n      <td>0.840158</td>\n      <td>0.881481</td>\n      <td>0.790581</td>\n      <td>0.918200</td>\n      <td>0.874635</td>\n      <td>0.904491</td>\n      <td>0.736656</td>\n      <td>-0.066203</td>\n    </tr>\n    <tr>\n      <th>P31</th>\n      <td>-0.019252</td>\n      <td>0.479175</td>\n      <td>0.353477</td>\n      <td>0.406701</td>\n      <td>0.333626</td>\n      <td>0.112603</td>\n      <td>0.477593</td>\n      <td>0.452471</td>\n      <td>0.420425</td>\n      <td>0.467334</td>\n      <td>...</td>\n      <td>0.371893</td>\n      <td>0.840158</td>\n      <td>1.000000</td>\n      <td>0.934778</td>\n      <td>0.803785</td>\n      <td>0.864144</td>\n      <td>0.823262</td>\n      <td>0.901940</td>\n      <td>0.787904</td>\n      <td>-0.040418</td>\n    </tr>\n    <tr>\n      <th>P32</th>\n      <td>0.055963</td>\n      <td>0.552593</td>\n      <td>0.389376</td>\n      <td>0.463217</td>\n      <td>0.440795</td>\n      <td>0.215568</td>\n      <td>0.519243</td>\n      <td>0.531011</td>\n      <td>0.516617</td>\n      <td>0.544749</td>\n      <td>...</td>\n      <td>0.425120</td>\n      <td>0.881481</td>\n      <td>0.934778</td>\n      <td>1.000000</td>\n      <td>0.760670</td>\n      <td>0.930014</td>\n      <td>0.837858</td>\n      <td>0.958152</td>\n      <td>0.758060</td>\n      <td>-0.065857</td>\n    </tr>\n    <tr>\n      <th>P33</th>\n      <td>-0.019958</td>\n      <td>0.329795</td>\n      <td>0.234991</td>\n      <td>0.312269</td>\n      <td>0.182820</td>\n      <td>0.071079</td>\n      <td>0.300611</td>\n      <td>0.339178</td>\n      <td>0.256416</td>\n      <td>0.326869</td>\n      <td>...</td>\n      <td>0.249646</td>\n      <td>0.790581</td>\n      <td>0.803785</td>\n      <td>0.760670</td>\n      <td>1.000000</td>\n      <td>0.797647</td>\n      <td>0.867296</td>\n      <td>0.816293</td>\n      <td>0.879400</td>\n      <td>-0.032426</td>\n    </tr>\n    <tr>\n      <th>P34</th>\n      <td>0.067714</td>\n      <td>0.570835</td>\n      <td>0.394319</td>\n      <td>0.501575</td>\n      <td>0.434245</td>\n      <td>0.243040</td>\n      <td>0.519635</td>\n      <td>0.562561</td>\n      <td>0.524474</td>\n      <td>0.582042</td>\n      <td>...</td>\n      <td>0.490329</td>\n      <td>0.918200</td>\n      <td>0.864144</td>\n      <td>0.930014</td>\n      <td>0.797647</td>\n      <td>1.000000</td>\n      <td>0.917651</td>\n      <td>0.970234</td>\n      <td>0.741039</td>\n      <td>-0.072343</td>\n    </tr>\n    <tr>\n      <th>P35</th>\n      <td>0.003073</td>\n      <td>0.449182</td>\n      <td>0.314798</td>\n      <td>0.428504</td>\n      <td>0.277902</td>\n      <td>0.173309</td>\n      <td>0.413645</td>\n      <td>0.457721</td>\n      <td>0.405709</td>\n      <td>0.467916</td>\n      <td>...</td>\n      <td>0.384401</td>\n      <td>0.874635</td>\n      <td>0.823262</td>\n      <td>0.837858</td>\n      <td>0.867296</td>\n      <td>0.917651</td>\n      <td>1.000000</td>\n      <td>0.904110</td>\n      <td>0.797640</td>\n      <td>-0.050156</td>\n    </tr>\n    <tr>\n      <th>P36</th>\n      <td>0.040799</td>\n      <td>0.554951</td>\n      <td>0.387938</td>\n      <td>0.484942</td>\n      <td>0.411664</td>\n      <td>0.193652</td>\n      <td>0.524552</td>\n      <td>0.543563</td>\n      <td>0.499777</td>\n      <td>0.551953</td>\n      <td>...</td>\n      <td>0.457660</td>\n      <td>0.904491</td>\n      <td>0.901940</td>\n      <td>0.958152</td>\n      <td>0.816293</td>\n      <td>0.970234</td>\n      <td>0.904110</td>\n      <td>1.000000</td>\n      <td>0.805416</td>\n      <td>-0.050534</td>\n    </tr>\n    <tr>\n      <th>P37</th>\n      <td>-0.065791</td>\n      <td>0.277601</td>\n      <td>0.161162</td>\n      <td>0.284065</td>\n      <td>0.177916</td>\n      <td>0.033548</td>\n      <td>0.327594</td>\n      <td>0.309678</td>\n      <td>0.308294</td>\n      <td>0.330927</td>\n      <td>...</td>\n      <td>0.296405</td>\n      <td>0.736656</td>\n      <td>0.787904</td>\n      <td>0.758060</td>\n      <td>0.879400</td>\n      <td>0.741039</td>\n      <td>0.797640</td>\n      <td>0.805416</td>\n      <td>1.000000</td>\n      <td>-0.019051</td>\n    </tr>\n    <tr>\n      <th>revenue</th>\n      <td>-0.006277</td>\n      <td>0.070217</td>\n      <td>0.191518</td>\n      <td>-0.024613</td>\n      <td>0.035685</td>\n      <td>-0.028191</td>\n      <td>0.139094</td>\n      <td>0.051165</td>\n      <td>-0.084215</td>\n      <td>-0.050352</td>\n      <td>...</td>\n      <td>-0.114846</td>\n      <td>-0.066203</td>\n      <td>-0.040418</td>\n      <td>-0.065857</td>\n      <td>-0.032426</td>\n      <td>-0.072343</td>\n      <td>-0.050156</td>\n      <td>-0.050534</td>\n      <td>-0.019051</td>\n      <td>1.000000</td>\n    </tr>\n  </tbody>\n</table>\n<p>39 rows × 39 columns</p>\n</div>"
     },
     "execution_count": 29,
     "metadata": {},
     "output_type": "execute_result"
    }
   ],
   "source": [
    "# O QUE ESSA FUNÇÃO FAZ?\n",
    "trainData[num_col].corr()"
   ],
   "metadata": {
    "collapsed": false,
    "pycharm": {
     "name": "#%%\n"
    }
   }
  },
  {
   "cell_type": "code",
   "execution_count": 30,
   "outputs": [
    {
     "data": {
      "text/plain": "revenue    1.000000\nP2         0.191518\nP28        0.155534\nP6         0.139094\nP21        0.097411\nP11        0.084247\nP22        0.083562\nP1         0.070217\nP17        0.067137\nP7         0.051165\nP23        0.045507\nP25        0.036365\nP4         0.035685\nP19        0.027984\nP24        0.014222\nP20        0.014147\nP14        0.006441\nP15        0.000742\nId        -0.006277\nP26       -0.007650\nP27       -0.013680\nP37       -0.019051\nP3        -0.024613\nP5        -0.028191\nP33       -0.032426\nP18       -0.034537\nP16       -0.037997\nP31       -0.040418\nP35       -0.050156\nP9        -0.050352\nP36       -0.050534\nP12       -0.062193\nP32       -0.065857\nP30       -0.066203\nP34       -0.072343\nP10       -0.073220\nP8        -0.084215\nP13       -0.105085\nP29       -0.114846\nName: revenue, dtype: float64"
     },
     "execution_count": 30,
     "metadata": {},
     "output_type": "execute_result"
    }
   ],
   "source": [
    "correlation['revenue'].sort_values(ascending=False)"
   ],
   "metadata": {
    "collapsed": false,
    "pycharm": {
     "name": "#%%\n"
    }
   }
  },
  {
   "cell_type": "code",
   "execution_count": 32,
   "outputs": [
    {
     "data": {
      "text/plain": "         City  City Group Type  P1   P2   P3   P4  P5  P6  P7  ...  P30  P31  \\\n0    İstanbul  Big Cities   IL   4  5.0  4.0  4.0   2   2   5  ...    5    3   \n1      Ankara  Big Cities   FC   4  5.0  4.0  4.0   1   2   5  ...    0    0   \n2  Diyarbakır       Other   IL   2  4.0  2.0  5.0   2   3   5  ...    0    0   \n3       Tokat       Other   IL   6  4.5  6.0  6.0   4   4  10  ...   25   12   \n4   Gaziantep       Other   IL   3  4.0  3.0  4.0   2   2   5  ...    5    1   \n\n   P32  P33  P34  P35  P36  P37    revenue  OpenDays  \n0    4    5    5    4    3    4  5653753.0      6743  \n1    0    0    0    0    0    0  6923131.0      3609  \n2    0    0    0    0    0    0  2055379.0      1759  \n3   10    6   18   12   12    6  2675511.0      2160  \n4    3    2    3    4    3    3  4316715.0      3159  \n\n[5 rows x 42 columns]",
      "text/html": "<div>\n<style scoped>\n    .dataframe tbody tr th:only-of-type {\n        vertical-align: middle;\n    }\n\n    .dataframe tbody tr th {\n        vertical-align: top;\n    }\n\n    .dataframe thead th {\n        text-align: right;\n    }\n</style>\n<table border=\"1\" class=\"dataframe\">\n  <thead>\n    <tr style=\"text-align: right;\">\n      <th></th>\n      <th>City</th>\n      <th>City Group</th>\n      <th>Type</th>\n      <th>P1</th>\n      <th>P2</th>\n      <th>P3</th>\n      <th>P4</th>\n      <th>P5</th>\n      <th>P6</th>\n      <th>P7</th>\n      <th>...</th>\n      <th>P30</th>\n      <th>P31</th>\n      <th>P32</th>\n      <th>P33</th>\n      <th>P34</th>\n      <th>P35</th>\n      <th>P36</th>\n      <th>P37</th>\n      <th>revenue</th>\n      <th>OpenDays</th>\n    </tr>\n  </thead>\n  <tbody>\n    <tr>\n      <th>0</th>\n      <td>İstanbul</td>\n      <td>Big Cities</td>\n      <td>IL</td>\n      <td>4</td>\n      <td>5.0</td>\n      <td>4.0</td>\n      <td>4.0</td>\n      <td>2</td>\n      <td>2</td>\n      <td>5</td>\n      <td>...</td>\n      <td>5</td>\n      <td>3</td>\n      <td>4</td>\n      <td>5</td>\n      <td>5</td>\n      <td>4</td>\n      <td>3</td>\n      <td>4</td>\n      <td>5653753.0</td>\n      <td>6743</td>\n    </tr>\n    <tr>\n      <th>1</th>\n      <td>Ankara</td>\n      <td>Big Cities</td>\n      <td>FC</td>\n      <td>4</td>\n      <td>5.0</td>\n      <td>4.0</td>\n      <td>4.0</td>\n      <td>1</td>\n      <td>2</td>\n      <td>5</td>\n      <td>...</td>\n      <td>0</td>\n      <td>0</td>\n      <td>0</td>\n      <td>0</td>\n      <td>0</td>\n      <td>0</td>\n      <td>0</td>\n      <td>0</td>\n      <td>6923131.0</td>\n      <td>3609</td>\n    </tr>\n    <tr>\n      <th>2</th>\n      <td>Diyarbakır</td>\n      <td>Other</td>\n      <td>IL</td>\n      <td>2</td>\n      <td>4.0</td>\n      <td>2.0</td>\n      <td>5.0</td>\n      <td>2</td>\n      <td>3</td>\n      <td>5</td>\n      <td>...</td>\n      <td>0</td>\n      <td>0</td>\n      <td>0</td>\n      <td>0</td>\n      <td>0</td>\n      <td>0</td>\n      <td>0</td>\n      <td>0</td>\n      <td>2055379.0</td>\n      <td>1759</td>\n    </tr>\n    <tr>\n      <th>3</th>\n      <td>Tokat</td>\n      <td>Other</td>\n      <td>IL</td>\n      <td>6</td>\n      <td>4.5</td>\n      <td>6.0</td>\n      <td>6.0</td>\n      <td>4</td>\n      <td>4</td>\n      <td>10</td>\n      <td>...</td>\n      <td>25</td>\n      <td>12</td>\n      <td>10</td>\n      <td>6</td>\n      <td>18</td>\n      <td>12</td>\n      <td>12</td>\n      <td>6</td>\n      <td>2675511.0</td>\n      <td>2160</td>\n    </tr>\n    <tr>\n      <th>4</th>\n      <td>Gaziantep</td>\n      <td>Other</td>\n      <td>IL</td>\n      <td>3</td>\n      <td>4.0</td>\n      <td>3.0</td>\n      <td>4.0</td>\n      <td>2</td>\n      <td>2</td>\n      <td>5</td>\n      <td>...</td>\n      <td>5</td>\n      <td>1</td>\n      <td>3</td>\n      <td>2</td>\n      <td>3</td>\n      <td>4</td>\n      <td>3</td>\n      <td>3</td>\n      <td>4316715.0</td>\n      <td>3159</td>\n    </tr>\n  </tbody>\n</table>\n<p>5 rows × 42 columns</p>\n</div>"
     },
     "execution_count": 32,
     "metadata": {},
     "output_type": "execute_result"
    }
   ],
   "source": [
    "# drop irrelevant columns\n",
    "trainData = trainData.drop('Open Date', axis=1)\n",
    "trainData = trainData.drop('Id', axis=1)\n",
    "trainData.head()"
   ],
   "metadata": {
    "collapsed": false,
    "pycharm": {
     "name": "#%%\n"
    }
   }
  },
  {
   "cell_type": "markdown",
   "source": [
    "# Converting dummy data for categorical column City Group"
   ],
   "metadata": {
    "collapsed": false,
    "pycharm": {
     "name": "#%% md\n"
    }
   }
  },
  {
   "cell_type": "code",
   "execution_count": 33,
   "outputs": [],
   "source": [
    "cityGroupDummyTrain = pd.get_dummies(trainData['City Group'])\n",
    "trainData = trainData.join(cityGroupDummyTrain)"
   ],
   "metadata": {
    "collapsed": false,
    "pycharm": {
     "name": "#%%\n"
    }
   }
  },
  {
   "cell_type": "code",
   "execution_count": 35,
   "outputs": [
    {
     "ename": "KeyError",
     "evalue": "\"['City Group'] not found in axis\"",
     "output_type": "error",
     "traceback": [
      "\u001B[1;31m---------------------------------------------------------------------------\u001B[0m",
      "\u001B[1;31mKeyError\u001B[0m                                  Traceback (most recent call last)",
      "\u001B[1;32m~\\AppData\\Local\\Temp/ipykernel_13964/1136289575.py\u001B[0m in \u001B[0;36m<module>\u001B[1;34m\u001B[0m\n\u001B[1;32m----> 1\u001B[1;33m \u001B[0mtrainData\u001B[0m \u001B[1;33m=\u001B[0m \u001B[0mtrainData\u001B[0m\u001B[1;33m.\u001B[0m\u001B[0mdrop\u001B[0m\u001B[1;33m(\u001B[0m\u001B[1;34m'City Group'\u001B[0m\u001B[1;33m,\u001B[0m \u001B[0maxis\u001B[0m\u001B[1;33m=\u001B[0m\u001B[1;36m1\u001B[0m\u001B[1;33m)\u001B[0m\u001B[1;33m\u001B[0m\u001B[1;33m\u001B[0m\u001B[0m\n\u001B[0m\u001B[0;32m      2\u001B[0m \u001B[0mtrainData\u001B[0m\u001B[1;33m.\u001B[0m\u001B[0mhead\u001B[0m\u001B[1;33m(\u001B[0m\u001B[1;33m)\u001B[0m\u001B[1;33m\u001B[0m\u001B[1;33m\u001B[0m\u001B[0m\n",
      "\u001B[1;32m~\\anaconda3\\lib\\site-packages\\pandas\\util\\_decorators.py\u001B[0m in \u001B[0;36mwrapper\u001B[1;34m(*args, **kwargs)\u001B[0m\n\u001B[0;32m    309\u001B[0m                     \u001B[0mstacklevel\u001B[0m\u001B[1;33m=\u001B[0m\u001B[0mstacklevel\u001B[0m\u001B[1;33m,\u001B[0m\u001B[1;33m\u001B[0m\u001B[1;33m\u001B[0m\u001B[0m\n\u001B[0;32m    310\u001B[0m                 )\n\u001B[1;32m--> 311\u001B[1;33m             \u001B[1;32mreturn\u001B[0m \u001B[0mfunc\u001B[0m\u001B[1;33m(\u001B[0m\u001B[1;33m*\u001B[0m\u001B[0margs\u001B[0m\u001B[1;33m,\u001B[0m \u001B[1;33m**\u001B[0m\u001B[0mkwargs\u001B[0m\u001B[1;33m)\u001B[0m\u001B[1;33m\u001B[0m\u001B[1;33m\u001B[0m\u001B[0m\n\u001B[0m\u001B[0;32m    312\u001B[0m \u001B[1;33m\u001B[0m\u001B[0m\n\u001B[0;32m    313\u001B[0m         \u001B[1;32mreturn\u001B[0m \u001B[0mwrapper\u001B[0m\u001B[1;33m\u001B[0m\u001B[1;33m\u001B[0m\u001B[0m\n",
      "\u001B[1;32m~\\anaconda3\\lib\\site-packages\\pandas\\core\\frame.py\u001B[0m in \u001B[0;36mdrop\u001B[1;34m(self, labels, axis, index, columns, level, inplace, errors)\u001B[0m\n\u001B[0;32m   4904\u001B[0m                 \u001B[0mweight\u001B[0m  \u001B[1;36m1.0\u001B[0m     \u001B[1;36m0.8\u001B[0m\u001B[1;33m\u001B[0m\u001B[1;33m\u001B[0m\u001B[0m\n\u001B[0;32m   4905\u001B[0m         \"\"\"\n\u001B[1;32m-> 4906\u001B[1;33m         return super().drop(\n\u001B[0m\u001B[0;32m   4907\u001B[0m             \u001B[0mlabels\u001B[0m\u001B[1;33m=\u001B[0m\u001B[0mlabels\u001B[0m\u001B[1;33m,\u001B[0m\u001B[1;33m\u001B[0m\u001B[1;33m\u001B[0m\u001B[0m\n\u001B[0;32m   4908\u001B[0m             \u001B[0maxis\u001B[0m\u001B[1;33m=\u001B[0m\u001B[0maxis\u001B[0m\u001B[1;33m,\u001B[0m\u001B[1;33m\u001B[0m\u001B[1;33m\u001B[0m\u001B[0m\n",
      "\u001B[1;32m~\\anaconda3\\lib\\site-packages\\pandas\\core\\generic.py\u001B[0m in \u001B[0;36mdrop\u001B[1;34m(self, labels, axis, index, columns, level, inplace, errors)\u001B[0m\n\u001B[0;32m   4148\u001B[0m         \u001B[1;32mfor\u001B[0m \u001B[0maxis\u001B[0m\u001B[1;33m,\u001B[0m \u001B[0mlabels\u001B[0m \u001B[1;32min\u001B[0m \u001B[0maxes\u001B[0m\u001B[1;33m.\u001B[0m\u001B[0mitems\u001B[0m\u001B[1;33m(\u001B[0m\u001B[1;33m)\u001B[0m\u001B[1;33m:\u001B[0m\u001B[1;33m\u001B[0m\u001B[1;33m\u001B[0m\u001B[0m\n\u001B[0;32m   4149\u001B[0m             \u001B[1;32mif\u001B[0m \u001B[0mlabels\u001B[0m \u001B[1;32mis\u001B[0m \u001B[1;32mnot\u001B[0m \u001B[1;32mNone\u001B[0m\u001B[1;33m:\u001B[0m\u001B[1;33m\u001B[0m\u001B[1;33m\u001B[0m\u001B[0m\n\u001B[1;32m-> 4150\u001B[1;33m                 \u001B[0mobj\u001B[0m \u001B[1;33m=\u001B[0m \u001B[0mobj\u001B[0m\u001B[1;33m.\u001B[0m\u001B[0m_drop_axis\u001B[0m\u001B[1;33m(\u001B[0m\u001B[0mlabels\u001B[0m\u001B[1;33m,\u001B[0m \u001B[0maxis\u001B[0m\u001B[1;33m,\u001B[0m \u001B[0mlevel\u001B[0m\u001B[1;33m=\u001B[0m\u001B[0mlevel\u001B[0m\u001B[1;33m,\u001B[0m \u001B[0merrors\u001B[0m\u001B[1;33m=\u001B[0m\u001B[0merrors\u001B[0m\u001B[1;33m)\u001B[0m\u001B[1;33m\u001B[0m\u001B[1;33m\u001B[0m\u001B[0m\n\u001B[0m\u001B[0;32m   4151\u001B[0m \u001B[1;33m\u001B[0m\u001B[0m\n\u001B[0;32m   4152\u001B[0m         \u001B[1;32mif\u001B[0m \u001B[0minplace\u001B[0m\u001B[1;33m:\u001B[0m\u001B[1;33m\u001B[0m\u001B[1;33m\u001B[0m\u001B[0m\n",
      "\u001B[1;32m~\\anaconda3\\lib\\site-packages\\pandas\\core\\generic.py\u001B[0m in \u001B[0;36m_drop_axis\u001B[1;34m(self, labels, axis, level, errors)\u001B[0m\n\u001B[0;32m   4183\u001B[0m                 \u001B[0mnew_axis\u001B[0m \u001B[1;33m=\u001B[0m \u001B[0maxis\u001B[0m\u001B[1;33m.\u001B[0m\u001B[0mdrop\u001B[0m\u001B[1;33m(\u001B[0m\u001B[0mlabels\u001B[0m\u001B[1;33m,\u001B[0m \u001B[0mlevel\u001B[0m\u001B[1;33m=\u001B[0m\u001B[0mlevel\u001B[0m\u001B[1;33m,\u001B[0m \u001B[0merrors\u001B[0m\u001B[1;33m=\u001B[0m\u001B[0merrors\u001B[0m\u001B[1;33m)\u001B[0m\u001B[1;33m\u001B[0m\u001B[1;33m\u001B[0m\u001B[0m\n\u001B[0;32m   4184\u001B[0m             \u001B[1;32melse\u001B[0m\u001B[1;33m:\u001B[0m\u001B[1;33m\u001B[0m\u001B[1;33m\u001B[0m\u001B[0m\n\u001B[1;32m-> 4185\u001B[1;33m                 \u001B[0mnew_axis\u001B[0m \u001B[1;33m=\u001B[0m \u001B[0maxis\u001B[0m\u001B[1;33m.\u001B[0m\u001B[0mdrop\u001B[0m\u001B[1;33m(\u001B[0m\u001B[0mlabels\u001B[0m\u001B[1;33m,\u001B[0m \u001B[0merrors\u001B[0m\u001B[1;33m=\u001B[0m\u001B[0merrors\u001B[0m\u001B[1;33m)\u001B[0m\u001B[1;33m\u001B[0m\u001B[1;33m\u001B[0m\u001B[0m\n\u001B[0m\u001B[0;32m   4186\u001B[0m             \u001B[0mresult\u001B[0m \u001B[1;33m=\u001B[0m \u001B[0mself\u001B[0m\u001B[1;33m.\u001B[0m\u001B[0mreindex\u001B[0m\u001B[1;33m(\u001B[0m\u001B[1;33m**\u001B[0m\u001B[1;33m{\u001B[0m\u001B[0maxis_name\u001B[0m\u001B[1;33m:\u001B[0m \u001B[0mnew_axis\u001B[0m\u001B[1;33m}\u001B[0m\u001B[1;33m)\u001B[0m\u001B[1;33m\u001B[0m\u001B[1;33m\u001B[0m\u001B[0m\n\u001B[0;32m   4187\u001B[0m \u001B[1;33m\u001B[0m\u001B[0m\n",
      "\u001B[1;32m~\\anaconda3\\lib\\site-packages\\pandas\\core\\indexes\\base.py\u001B[0m in \u001B[0;36mdrop\u001B[1;34m(self, labels, errors)\u001B[0m\n\u001B[0;32m   6015\u001B[0m         \u001B[1;32mif\u001B[0m \u001B[0mmask\u001B[0m\u001B[1;33m.\u001B[0m\u001B[0many\u001B[0m\u001B[1;33m(\u001B[0m\u001B[1;33m)\u001B[0m\u001B[1;33m:\u001B[0m\u001B[1;33m\u001B[0m\u001B[1;33m\u001B[0m\u001B[0m\n\u001B[0;32m   6016\u001B[0m             \u001B[1;32mif\u001B[0m \u001B[0merrors\u001B[0m \u001B[1;33m!=\u001B[0m \u001B[1;34m\"ignore\"\u001B[0m\u001B[1;33m:\u001B[0m\u001B[1;33m\u001B[0m\u001B[1;33m\u001B[0m\u001B[0m\n\u001B[1;32m-> 6017\u001B[1;33m                 \u001B[1;32mraise\u001B[0m \u001B[0mKeyError\u001B[0m\u001B[1;33m(\u001B[0m\u001B[1;34mf\"{labels[mask]} not found in axis\"\u001B[0m\u001B[1;33m)\u001B[0m\u001B[1;33m\u001B[0m\u001B[1;33m\u001B[0m\u001B[0m\n\u001B[0m\u001B[0;32m   6018\u001B[0m             \u001B[0mindexer\u001B[0m \u001B[1;33m=\u001B[0m \u001B[0mindexer\u001B[0m\u001B[1;33m[\u001B[0m\u001B[1;33m~\u001B[0m\u001B[0mmask\u001B[0m\u001B[1;33m]\u001B[0m\u001B[1;33m\u001B[0m\u001B[1;33m\u001B[0m\u001B[0m\n\u001B[0;32m   6019\u001B[0m         \u001B[1;32mreturn\u001B[0m \u001B[0mself\u001B[0m\u001B[1;33m.\u001B[0m\u001B[0mdelete\u001B[0m\u001B[1;33m(\u001B[0m\u001B[0mindexer\u001B[0m\u001B[1;33m)\u001B[0m\u001B[1;33m\u001B[0m\u001B[1;33m\u001B[0m\u001B[0m\n",
      "\u001B[1;31mKeyError\u001B[0m: \"['City Group'] not found in axis\""
     ]
    }
   ],
   "source": [
    "trainData = trainData.drop('City Group', axis=1)\n",
    "trainData.head()"
   ],
   "metadata": {
    "collapsed": false,
    "pycharm": {
     "name": "#%%\n"
    }
   }
  },
  {
   "cell_type": "markdown",
   "source": [
    "# Data preprocessing for test data"
   ],
   "metadata": {
    "collapsed": false,
    "pycharm": {
     "name": "#%% md\n"
    }
   }
  },
  {
   "cell_type": "code",
   "execution_count": 37,
   "outputs": [],
   "source": [
    "testData['Open Date'] = pd.to_datetime(testData['Open Date'], format='%m/%d/%Y')\n",
    "\n",
    "testData['OpenDays'] = \"\"\n",
    "\n",
    "dateLastTest = pd.DataFrame({'Date': np.repeat(['01/01/2015'], [len(testData)]) })\n",
    "dateLastTest['Date'] = pd.to_datetime(dateLastTest['Date'], format='%m/%d/%Y')\n",
    "\n",
    "testData['OpenDays'] = dateLastTest['Date'] - testData['Open Date']\n",
    "testData['OpenDays'] = testData['OpenDays'].astype('timedelta64[D]').astype(int)\n",
    "\n",
    "testData = testData.drop('Open Date', axis=1)\n",
    "\n",
    "cityGroupDummyTest = pd.get_dummies(testData['City Group'])\n",
    "testData = testData.join(cityGroupDummyTest)\n",
    "testData = testData.drop('City Group', axis=1)"
   ],
   "metadata": {
    "collapsed": false,
    "pycharm": {
     "name": "#%%\n"
    }
   }
  },
  {
   "cell_type": "code",
   "execution_count": 39,
   "outputs": [
    {
     "data": {
      "text/plain": "Id            0\nCity          0\nType          0\nP1            0\nP2            0\nP3            0\nP4            0\nP5            0\nP6            0\nP7            0\nP8            0\nP9            0\nP10           0\nP11           0\nP12           0\nP13           0\nP14           0\nP15           0\nP16           0\nP17           0\nP18           0\nP19           0\nP20           0\nP21           0\nP22           0\nP23           0\nP24           0\nP25           0\nP26           0\nP27           0\nP28           0\nP29           0\nP30           0\nP31           0\nP32           0\nP33           0\nP34           0\nP35           0\nP36           0\nP37           0\nOpenDays      0\nBig Cities    0\nOther         0\ndtype: int64"
     },
     "execution_count": 39,
     "metadata": {},
     "output_type": "execute_result"
    }
   ],
   "source": [
    " "
   ],
   "metadata": {
    "collapsed": false,
    "pycharm": {
     "name": "#%%\n"
    }
   }
  },
  {
   "cell_type": "code",
   "execution_count": null,
   "outputs": [],
   "source": [],
   "metadata": {
    "collapsed": false,
    "pycharm": {
     "name": "#%%\n"
    }
   }
  },
  {
   "cell_type": "code",
   "execution_count": 6,
   "metadata": {
    "pycharm": {
     "name": "#%%\n"
    }
   },
   "outputs": [
    {
     "data": {
      "text/plain": [
       "Index(['Id', 'P1', 'P2', 'P3', 'P4', 'P5', 'P6', 'P7', 'P8', 'P9', 'P10',\n",
       "       'P11', 'P12', 'P13', 'P14', 'P15', 'P16', 'P17', 'P18', 'P19', 'P20',\n",
       "       'P21', 'P22', 'P23', 'P24', 'P25', 'P26', 'P27', 'P28', 'P29', 'P30',\n",
       "       'P31', 'P32', 'P33', 'P34', 'P35', 'P36', 'P37', 'revenue'],\n",
       "      dtype='object')"
      ]
     },
     "execution_count": 6,
     "metadata": {},
     "output_type": "execute_result"
    }
   ],
   "source": [
    "num_col"
   ]
  },
  {
   "cell_type": "code",
   "execution_count": 5,
   "metadata": {
    "pycharm": {
     "name": "#%%\n"
    }
   },
   "outputs": [
    {
     "data": {
      "text/plain": [
       "Index(['Open Date', 'City', 'City Group', 'Type'], dtype='object')"
      ]
     },
     "execution_count": 5,
     "metadata": {},
     "output_type": "execute_result"
    }
   ],
   "source": [
    "cat_col"
   ]
  },
  {
   "cell_type": "code",
   "execution_count": 7,
   "metadata": {
    "pycharm": {
     "name": "#%%\n"
    }
   },
   "outputs": [
    {
     "data": {
      "text/html": [
       "<div>\n",
       "<style scoped>\n",
       "    .dataframe tbody tr th:only-of-type {\n",
       "        vertical-align: middle;\n",
       "    }\n",
       "\n",
       "    .dataframe tbody tr th {\n",
       "        vertical-align: top;\n",
       "    }\n",
       "\n",
       "    .dataframe thead th {\n",
       "        text-align: right;\n",
       "    }\n",
       "</style>\n",
       "<table border=\"1\" class=\"dataframe\">\n",
       "  <thead>\n",
       "    <tr style=\"text-align: right;\">\n",
       "      <th></th>\n",
       "      <th>Id</th>\n",
       "      <th>Open Date</th>\n",
       "      <th>City</th>\n",
       "      <th>City Group</th>\n",
       "      <th>Type</th>\n",
       "      <th>P1</th>\n",
       "      <th>P2</th>\n",
       "      <th>P3</th>\n",
       "      <th>P4</th>\n",
       "      <th>P5</th>\n",
       "      <th>...</th>\n",
       "      <th>P28</th>\n",
       "      <th>P29</th>\n",
       "      <th>P30</th>\n",
       "      <th>P31</th>\n",
       "      <th>P32</th>\n",
       "      <th>P33</th>\n",
       "      <th>P34</th>\n",
       "      <th>P35</th>\n",
       "      <th>P36</th>\n",
       "      <th>P37</th>\n",
       "    </tr>\n",
       "  </thead>\n",
       "  <tbody>\n",
       "    <tr>\n",
       "      <th>0</th>\n",
       "      <td>0</td>\n",
       "      <td>01/22/2011</td>\n",
       "      <td>Niğde</td>\n",
       "      <td>Other</td>\n",
       "      <td>FC</td>\n",
       "      <td>1</td>\n",
       "      <td>4.0</td>\n",
       "      <td>4.0</td>\n",
       "      <td>4.0</td>\n",
       "      <td>1</td>\n",
       "      <td>...</td>\n",
       "      <td>2.0</td>\n",
       "      <td>3.0</td>\n",
       "      <td>0</td>\n",
       "      <td>0</td>\n",
       "      <td>0</td>\n",
       "      <td>0</td>\n",
       "      <td>0</td>\n",
       "      <td>0</td>\n",
       "      <td>0</td>\n",
       "      <td>0</td>\n",
       "    </tr>\n",
       "    <tr>\n",
       "      <th>1</th>\n",
       "      <td>1</td>\n",
       "      <td>03/18/2011</td>\n",
       "      <td>Konya</td>\n",
       "      <td>Other</td>\n",
       "      <td>IL</td>\n",
       "      <td>3</td>\n",
       "      <td>4.0</td>\n",
       "      <td>4.0</td>\n",
       "      <td>4.0</td>\n",
       "      <td>2</td>\n",
       "      <td>...</td>\n",
       "      <td>1.0</td>\n",
       "      <td>3.0</td>\n",
       "      <td>0</td>\n",
       "      <td>0</td>\n",
       "      <td>0</td>\n",
       "      <td>0</td>\n",
       "      <td>0</td>\n",
       "      <td>0</td>\n",
       "      <td>0</td>\n",
       "      <td>0</td>\n",
       "    </tr>\n",
       "    <tr>\n",
       "      <th>2</th>\n",
       "      <td>2</td>\n",
       "      <td>10/30/2013</td>\n",
       "      <td>Ankara</td>\n",
       "      <td>Big Cities</td>\n",
       "      <td>FC</td>\n",
       "      <td>3</td>\n",
       "      <td>4.0</td>\n",
       "      <td>4.0</td>\n",
       "      <td>4.0</td>\n",
       "      <td>2</td>\n",
       "      <td>...</td>\n",
       "      <td>2.0</td>\n",
       "      <td>3.0</td>\n",
       "      <td>0</td>\n",
       "      <td>0</td>\n",
       "      <td>0</td>\n",
       "      <td>0</td>\n",
       "      <td>0</td>\n",
       "      <td>0</td>\n",
       "      <td>0</td>\n",
       "      <td>0</td>\n",
       "    </tr>\n",
       "    <tr>\n",
       "      <th>3</th>\n",
       "      <td>3</td>\n",
       "      <td>05/06/2013</td>\n",
       "      <td>Kocaeli</td>\n",
       "      <td>Other</td>\n",
       "      <td>IL</td>\n",
       "      <td>2</td>\n",
       "      <td>4.0</td>\n",
       "      <td>4.0</td>\n",
       "      <td>4.0</td>\n",
       "      <td>2</td>\n",
       "      <td>...</td>\n",
       "      <td>2.0</td>\n",
       "      <td>3.0</td>\n",
       "      <td>0</td>\n",
       "      <td>4</td>\n",
       "      <td>0</td>\n",
       "      <td>0</td>\n",
       "      <td>0</td>\n",
       "      <td>0</td>\n",
       "      <td>0</td>\n",
       "      <td>0</td>\n",
       "    </tr>\n",
       "    <tr>\n",
       "      <th>4</th>\n",
       "      <td>4</td>\n",
       "      <td>07/31/2013</td>\n",
       "      <td>Afyonkarahisar</td>\n",
       "      <td>Other</td>\n",
       "      <td>FC</td>\n",
       "      <td>2</td>\n",
       "      <td>4.0</td>\n",
       "      <td>4.0</td>\n",
       "      <td>4.0</td>\n",
       "      <td>1</td>\n",
       "      <td>...</td>\n",
       "      <td>5.0</td>\n",
       "      <td>3.0</td>\n",
       "      <td>0</td>\n",
       "      <td>0</td>\n",
       "      <td>0</td>\n",
       "      <td>0</td>\n",
       "      <td>0</td>\n",
       "      <td>0</td>\n",
       "      <td>0</td>\n",
       "      <td>0</td>\n",
       "    </tr>\n",
       "  </tbody>\n",
       "</table>\n",
       "<p>5 rows × 42 columns</p>\n",
       "</div>"
      ],
      "text/plain": [
       "   Id   Open Date            City  City Group Type  P1   P2   P3   P4  P5  \\\n",
       "0   0  01/22/2011           Niğde       Other   FC   1  4.0  4.0  4.0   1   \n",
       "1   1  03/18/2011           Konya       Other   IL   3  4.0  4.0  4.0   2   \n",
       "2   2  10/30/2013          Ankara  Big Cities   FC   3  4.0  4.0  4.0   2   \n",
       "3   3  05/06/2013         Kocaeli       Other   IL   2  4.0  4.0  4.0   2   \n",
       "4   4  07/31/2013  Afyonkarahisar       Other   FC   2  4.0  4.0  4.0   1   \n",
       "\n",
       "   ...  P28  P29  P30  P31  P32  P33  P34  P35  P36  P37  \n",
       "0  ...  2.0  3.0    0    0    0    0    0    0    0    0  \n",
       "1  ...  1.0  3.0    0    0    0    0    0    0    0    0  \n",
       "2  ...  2.0  3.0    0    0    0    0    0    0    0    0  \n",
       "3  ...  2.0  3.0    0    4    0    0    0    0    0    0  \n",
       "4  ...  5.0  3.0    0    0    0    0    0    0    0    0  \n",
       "\n",
       "[5 rows x 42 columns]"
      ]
     },
     "execution_count": 7,
     "metadata": {},
     "output_type": "execute_result"
    }
   ],
   "source": [
    "testData.head()"
   ]
  },
  {
   "cell_type": "code",
   "execution_count": 8,
   "metadata": {
    "pycharm": {
     "name": "#%%\n"
    }
   },
   "outputs": [
    {
     "name": "stdout",
     "output_type": "stream",
     "text": [
      "Train (137, 43)\n",
      "Test (100000, 42)\n"
     ]
    }
   ],
   "source": [
    "print(\"Train\", trainData.shape)\n",
    "print(\"Test\", testData.shape)"
   ]
  },
  {
   "cell_type": "markdown",
   "metadata": {
    "pycharm": {
     "name": "#%% md\n"
    }
   },
   "source": [
    "# PRE-PROCESSING AND SOME ANALYSIS"
   ]
  },
  {
   "cell_type": "code",
   "execution_count": 10,
   "metadata": {
    "pycharm": {
     "name": "#%%\n"
    }
   },
   "outputs": [
    {
     "data": {
      "text/plain": [
       "[]"
      ]
     },
     "execution_count": 10,
     "metadata": {},
     "output_type": "execute_result"
    }
   ],
   "source": [
    "# get column with null values\n",
    "trainData.columns[trainData.isna().any()].to_list()"
   ]
  },
  {
   "cell_type": "code",
   "execution_count": 17,
   "metadata": {
    "pycharm": {
     "name": "#%%\n"
    }
   },
   "outputs": [
    {
     "name": "stdout",
     "output_type": "stream",
     "text": [
      "Type <class 'pandas.core.series.Series'>\n",
      "Type object\n"
     ]
    }
   ],
   "source": [
    "print('type', type(trainData['Open Date']))\n",
    "print('dtype', trainData['Open Date'].dtype)"
   ]
  },
  {
   "cell_type": "code",
   "execution_count": 38,
   "metadata": {
    "pycharm": {
     "name": "#%%\n"
    }
   },
   "outputs": [
    {
     "data": {
      "text/plain": [
       "0     6743 days\n",
       "1     3609 days\n",
       "2     1759 days\n",
       "3     2160 days\n",
       "4     3159 days\n",
       "         ...   \n",
       "132   3477 days\n",
       "133   4099 days\n",
       "134   4195 days\n",
       "135   2621 days\n",
       "136   3044 days\n",
       "Length: 137, dtype: timedelta64[ns]"
      ]
     },
     "execution_count": 38,
     "metadata": {},
     "output_type": "execute_result"
    }
   ],
   "source": [
    "trainData['Open Date'] = pd.to_datetime(trainData['Open Date'], format='%m/%d/%Y')\n",
    "trainData['OpenDays'] = \"\"\n",
    "\n",
    "# PORQUE USAR ESTÁ DATA\n",
    "dateLastTrain = pd.DataFrame({ 'Date': np.repeat(['01/01/2018'], [len(trainData)]) })\n",
    "dateLastTrain['Date'] = pd.to_datetime(dateLastTrain['Date'], format='%m/%d/%Y')\n",
    "dateLastTrain.head()\n",
    "\n",
    "trainData['OpenDays'] = dateLastTrain['Date'] - trainData['Open Date']\n",
    "trainData['OpenDays'] = trainData['OpenDays'].astype('timedelta64[D]').astype(int)"
   ]
  },
  {
   "cell_type": "code",
   "execution_count": 39,
   "metadata": {
    "pycharm": {
     "name": "#%%\n"
    }
   },
   "outputs": [
    {
     "data": {
      "text/html": [
       "<div>\n",
       "<style scoped>\n",
       "    .dataframe tbody tr th:only-of-type {\n",
       "        vertical-align: middle;\n",
       "    }\n",
       "\n",
       "    .dataframe tbody tr th {\n",
       "        vertical-align: top;\n",
       "    }\n",
       "\n",
       "    .dataframe thead th {\n",
       "        text-align: right;\n",
       "    }\n",
       "</style>\n",
       "<table border=\"1\" class=\"dataframe\">\n",
       "  <thead>\n",
       "    <tr style=\"text-align: right;\">\n",
       "      <th></th>\n",
       "      <th>Id</th>\n",
       "      <th>Open Date</th>\n",
       "      <th>City</th>\n",
       "      <th>City Group</th>\n",
       "      <th>Type</th>\n",
       "      <th>P1</th>\n",
       "      <th>P2</th>\n",
       "      <th>P3</th>\n",
       "      <th>P4</th>\n",
       "      <th>P5</th>\n",
       "      <th>...</th>\n",
       "      <th>P30</th>\n",
       "      <th>P31</th>\n",
       "      <th>P32</th>\n",
       "      <th>P33</th>\n",
       "      <th>P34</th>\n",
       "      <th>P35</th>\n",
       "      <th>P36</th>\n",
       "      <th>P37</th>\n",
       "      <th>revenue</th>\n",
       "      <th>OpenDays</th>\n",
       "    </tr>\n",
       "  </thead>\n",
       "  <tbody>\n",
       "    <tr>\n",
       "      <th>0</th>\n",
       "      <td>0</td>\n",
       "      <td>1999-07-17</td>\n",
       "      <td>İstanbul</td>\n",
       "      <td>Big Cities</td>\n",
       "      <td>IL</td>\n",
       "      <td>4</td>\n",
       "      <td>5.0</td>\n",
       "      <td>4.0</td>\n",
       "      <td>4.0</td>\n",
       "      <td>2</td>\n",
       "      <td>...</td>\n",
       "      <td>5</td>\n",
       "      <td>3</td>\n",
       "      <td>4</td>\n",
       "      <td>5</td>\n",
       "      <td>5</td>\n",
       "      <td>4</td>\n",
       "      <td>3</td>\n",
       "      <td>4</td>\n",
       "      <td>5653753.0</td>\n",
       "      <td>6743</td>\n",
       "    </tr>\n",
       "    <tr>\n",
       "      <th>1</th>\n",
       "      <td>1</td>\n",
       "      <td>2008-02-14</td>\n",
       "      <td>Ankara</td>\n",
       "      <td>Big Cities</td>\n",
       "      <td>FC</td>\n",
       "      <td>4</td>\n",
       "      <td>5.0</td>\n",
       "      <td>4.0</td>\n",
       "      <td>4.0</td>\n",
       "      <td>1</td>\n",
       "      <td>...</td>\n",
       "      <td>0</td>\n",
       "      <td>0</td>\n",
       "      <td>0</td>\n",
       "      <td>0</td>\n",
       "      <td>0</td>\n",
       "      <td>0</td>\n",
       "      <td>0</td>\n",
       "      <td>0</td>\n",
       "      <td>6923131.0</td>\n",
       "      <td>3609</td>\n",
       "    </tr>\n",
       "    <tr>\n",
       "      <th>2</th>\n",
       "      <td>2</td>\n",
       "      <td>2013-03-09</td>\n",
       "      <td>Diyarbakır</td>\n",
       "      <td>Other</td>\n",
       "      <td>IL</td>\n",
       "      <td>2</td>\n",
       "      <td>4.0</td>\n",
       "      <td>2.0</td>\n",
       "      <td>5.0</td>\n",
       "      <td>2</td>\n",
       "      <td>...</td>\n",
       "      <td>0</td>\n",
       "      <td>0</td>\n",
       "      <td>0</td>\n",
       "      <td>0</td>\n",
       "      <td>0</td>\n",
       "      <td>0</td>\n",
       "      <td>0</td>\n",
       "      <td>0</td>\n",
       "      <td>2055379.0</td>\n",
       "      <td>1759</td>\n",
       "    </tr>\n",
       "    <tr>\n",
       "      <th>3</th>\n",
       "      <td>3</td>\n",
       "      <td>2012-02-02</td>\n",
       "      <td>Tokat</td>\n",
       "      <td>Other</td>\n",
       "      <td>IL</td>\n",
       "      <td>6</td>\n",
       "      <td>4.5</td>\n",
       "      <td>6.0</td>\n",
       "      <td>6.0</td>\n",
       "      <td>4</td>\n",
       "      <td>...</td>\n",
       "      <td>25</td>\n",
       "      <td>12</td>\n",
       "      <td>10</td>\n",
       "      <td>6</td>\n",
       "      <td>18</td>\n",
       "      <td>12</td>\n",
       "      <td>12</td>\n",
       "      <td>6</td>\n",
       "      <td>2675511.0</td>\n",
       "      <td>2160</td>\n",
       "    </tr>\n",
       "    <tr>\n",
       "      <th>4</th>\n",
       "      <td>4</td>\n",
       "      <td>2009-05-09</td>\n",
       "      <td>Gaziantep</td>\n",
       "      <td>Other</td>\n",
       "      <td>IL</td>\n",
       "      <td>3</td>\n",
       "      <td>4.0</td>\n",
       "      <td>3.0</td>\n",
       "      <td>4.0</td>\n",
       "      <td>2</td>\n",
       "      <td>...</td>\n",
       "      <td>5</td>\n",
       "      <td>1</td>\n",
       "      <td>3</td>\n",
       "      <td>2</td>\n",
       "      <td>3</td>\n",
       "      <td>4</td>\n",
       "      <td>3</td>\n",
       "      <td>3</td>\n",
       "      <td>4316715.0</td>\n",
       "      <td>3159</td>\n",
       "    </tr>\n",
       "  </tbody>\n",
       "</table>\n",
       "<p>5 rows × 44 columns</p>\n",
       "</div>"
      ],
      "text/plain": [
       "   Id  Open Date        City  City Group Type  P1   P2   P3   P4  P5  ...  \\\n",
       "0   0 1999-07-17    İstanbul  Big Cities   IL   4  5.0  4.0  4.0   2  ...   \n",
       "1   1 2008-02-14      Ankara  Big Cities   FC   4  5.0  4.0  4.0   1  ...   \n",
       "2   2 2013-03-09  Diyarbakır       Other   IL   2  4.0  2.0  5.0   2  ...   \n",
       "3   3 2012-02-02       Tokat       Other   IL   6  4.5  6.0  6.0   4  ...   \n",
       "4   4 2009-05-09   Gaziantep       Other   IL   3  4.0  3.0  4.0   2  ...   \n",
       "\n",
       "   P30  P31  P32  P33  P34  P35  P36  P37    revenue  OpenDays  \n",
       "0    5    3    4    5    5    4    3    4  5653753.0      6743  \n",
       "1    0    0    0    0    0    0    0    0  6923131.0      3609  \n",
       "2    0    0    0    0    0    0    0    0  2055379.0      1759  \n",
       "3   25   12   10    6   18   12   12    6  2675511.0      2160  \n",
       "4    5    1    3    2    3    4    3    3  4316715.0      3159  \n",
       "\n",
       "[5 rows x 44 columns]"
      ]
     },
     "execution_count": 39,
     "metadata": {},
     "output_type": "execute_result"
    }
   ],
   "source": [
    "trainData.head()"
   ]
  },
  {
   "cell_type": "markdown",
   "metadata": {
    "pycharm": {
     "name": "#%% md\n"
    }
   },
   "source": [
    "# Comparing the revenue of big cities and other cities"
   ]
  },
  {
   "cell_type": "code",
   "execution_count": 40,
   "metadata": {
    "pycharm": {
     "name": "#%%\n"
    }
   },
   "outputs": [
    {
     "data": {
      "text/plain": [
       "<AxesSubplot:xlabel='City Group', ylabel='revenue'>"
      ]
     },
     "execution_count": 40,
     "metadata": {},
     "output_type": "execute_result"
    },
    {
     "data": {
      "image/png": "[encoded data removed]",
      "text/plain": [
       "<Figure size 432x288 with 1 Axes>"
      ]
     },
     "metadata": {
      "needs_background": "light"
     },
     "output_type": "display_data"
    }
   ],
   "source": [
    "cityPerc = trainData[['City Group', 'revenue']].groupby(['City Group'], as_index=False).mean()\n",
    "sns.barplot(x='City Group', y='revenue', data=cityPerc)"
   ]
  },
  {
   "cell_type": "markdown",
   "metadata": {
    "pycharm": {
     "name": "#%% md\n"
    }
   },
   "source": [
    "# Sorting the cities by revenue; getting the max earned cities"
   ]
  },
  {
   "cell_type": "code",
   "execution_count": 46,
   "metadata": {
    "pycharm": {
     "name": "#%%\n"
    }
   },
   "outputs": [
    {
     "data": {
      "text/plain": [
       "<AxesSubplot:xlabel='City', ylabel='revenue'>"
      ]
     },
     "execution_count": 46,
     "metadata": {},
     "output_type": "execute_result"
    },
    {
     "data": {
      "image/png": "[encoded data removed]",
      "text/plain": [
       "<Figure size 432x288 with 1 Axes>"
      ]
     },
     "metadata": {
      "needs_background": "light"
     },
     "output_type": "display_data"
    }
   ],
   "source": [
    "cityPerc = trainData[['City', 'revenue']].groupby(['City'], as_index=False).mean()\n",
    "newDf = cityPerc.sort_values(['revenue'], ascending=False)\n",
    "sns.barplot(x='City', y='revenue', data=newDf.head(15))"
   ]
  },
  {
   "cell_type": "code",
   "execution_count": 47,
   "metadata": {
    "pycharm": {
     "name": "#%%\n"
    }
   },
   "outputs": [
    {
     "data": {
      "text/plain": [
       "<AxesSubplot:xlabel='City', ylabel='revenue'>"
      ]
     },
     "execution_count": 47,
     "metadata": {},
     "output_type": "execute_result"
    },
    {
     "data": {
      "image/png": "[encoded data removed]",
      "text/plain": [
       "<Figure size 432x288 with 1 Axes>"
      ]
     },
     "metadata": {
      "needs_background": "light"
     },
     "output_type": "display_data"
    }
   ],
   "source": [
    "cityPerc = trainData[['City', 'revenue']].groupby(['City'], as_index=False).mean()\n",
    "newDf = cityPerc.sort_values(['revenue'], ascending=True)\n",
    "sns.barplot(x='City', y='revenue', data=newDf.head(15))"
   ]
  },
  {
   "cell_type": "code",
   "execution_count": 52,
   "metadata": {
    "pycharm": {
     "name": "#%%\n"
    }
   },
   "outputs": [
    {
     "data": {
      "text/plain": [
       "<AxesSubplot:xlabel='Type', ylabel='revenue'>"
      ]
     },
     "execution_count": 52,
     "metadata": {},
     "output_type": "execute_result"
    },
    {
     "data": {
      "image/png": "[encoded data removed]",
      "text/plain": [
       "<Figure size 432x288 with 1 Axes>"
      ]
     },
     "metadata": {
      "needs_background": "light"
     },
     "output_type": "display_data"
    }
   ],
   "source": [
    "typePerc = trainData[['Type', 'revenue']].groupby(['Type'], as_index=False).mean()\n",
    "sns.barplot(x='Type', y='revenue', data=typePerc)"
   ]
  },
  {
   "cell_type": "markdown",
   "metadata": {
    "pycharm": {
     "name": "#%% md\n"
    }
   },
   "source": [
    "# Plot about working days of specific restaurant types"
   ]
  },
  {
   "cell_type": "code",
   "execution_count": 55,
   "metadata": {
    "pycharm": {
     "name": "#%%\n"
    }
   },
   "outputs": [
    {
     "data": {
      "text/plain": [
       "<AxesSubplot:xlabel='Type', ylabel='OpenDays'>"
      ]
     },
     "execution_count": 55,
     "metadata": {},
     "output_type": "execute_result"
    },
    {
     "data": {
      "image/png": "[encoded data removed]",
      "text/plain": [
       "<Figure size 432x288 with 1 Axes>"
      ]
     },
     "metadata": {
      "needs_background": "light"
     },
     "output_type": "display_data"
    }
   ],
   "source": [
    "openDaysPerc = trainData[['Type', 'OpenDays']].groupby(['Type'], as_index=False).mean()\n",
    "sns.barplot(x='Type', y='OpenDays', data=openDaysPerc)"
   ]
  },
  {
   "cell_type": "code",
   "execution_count": null,
   "metadata": {
    "pycharm": {
     "name": "#%%\n"
    }
   },
   "outputs": [],
   "source": []
  }
 ],
 "metadata": {
  "interpreter": {
   "hash": "82e4fd910530615929363184f98045745f580f2f3fa35d02f8f6300cb4d36077"
  },
  "kernelspec": {
   "display_name": "Python 3.9.7 ('base')",
   "language": "python",
   "name": "python3"
  },
  "language_info": {
   "codemirror_mode": {
    "name": "ipython",
    "version": 3
   },
   "file_extension": ".py",
   "mimetype": "text/x-python",
   "name": "python",
   "nbconvert_exporter": "python",
   "pygments_lexer": "ipython3",
   "version": "3.9.7"
  },
  "orig_nbformat": 4
 },
 "nbformat": 4,
 "nbformat_minor": 2
}